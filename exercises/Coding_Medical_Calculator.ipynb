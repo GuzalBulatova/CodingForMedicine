{
 "cells": [
  {
   "cell_type": "markdown",
   "metadata": {},
   "source": [
    "<a href=\"https://colab.research.google.com/github/chris-lovejoy/CodingForMedicine/blob/main/exercises/Coding_Medical_Calculator.ipynb\" target=\"_parent\"><img src=\"https://colab.research.google.com/assets/colab-badge.svg\" alt=\"Open In Colab\"/></a>"
   ]
  },
  {
   "cell_type": "markdown",
   "metadata": {},
   "source": [
    "# How to Code a Medical Calculator"
   ]
  },
  {
   "cell_type": "markdown",
   "metadata": {},
   "source": [
    "**In this exercise, we will make a simple medical calculator for calculating a patient's score of [SIRS](https://www.mdcalc.com/calc/1096/sirs-sepsis-septic-shock-criteria) (Systemic Inflammatory Repsonse Syndrome).**\n",
    "\n",
    "You're then invited to apply the same principles for other medical calculators, such as:\n",
    "- [CHA₂DS₂-VASc score](https://www.mdcalc.com/calc/801/cha2ds2-vasc-score-atrial-fibrillation-stroke-risk) for Stroke Risk in Atrial Fibrillation \n",
    "- [CURB-65 score](https://www.mdcalc.com/calc/324/curb-65-score-pneumonia-severity) for pneumonia severity\n",
    "- [GCS](https://www.mdcalc.com/calc/64/glasgow-coma-scale-score-gcs) \n",
    "- [PERC score](https://www.mdcalc.com/calc/347/perc-rule-pulmonary-embolism) for pulmonary embolism\n",
    "- [qSOFA score](https://www.mdcalc.com/calc/2654/qsofa-quick-sofa-score-sepsis) for sepsis\n",
    "\n",
    "We will making use of a few key Python functions and concepts:\n",
    "- the **input() function**, which prompts the user to enter information\n",
    "- the **try/except statement**, which lets you specify how the code should respond to errors\n",
    "- checking **data types** such as integers (ints) and floats  \n",
    "- the conditional statements **if, else and while**, to control which code gets executed based on conditions \n",
    "\n",
    "Credit to [Harvinder Power](https://github.com/harvinder-power) for the initial inspiration for this exercise."
   ]
  },
  {
   "cell_type": "markdown",
   "metadata": {},
   "source": [
    "## Part 1: Getting ready"
   ]
  },
  {
   "cell_type": "markdown",
   "metadata": {},
   "source": [
    "The print() function just lets us print out anything we want into the console. Test it out below."
   ]
  },
  {
   "cell_type": "code",
   "execution_count": null,
   "metadata": {},
   "outputs": [],
   "source": [
    "print('Welcome to the SIRS Criteria Calculator!\\n')"
   ]
  },
  {
   "cell_type": "markdown",
   "metadata": {},
   "source": [
    "Because we're creating a calculator, we'll need a variable to keep the score. Let's declare this variable:"
   ]
  },
  {
   "cell_type": "code",
   "execution_count": null,
   "metadata": {},
   "outputs": [],
   "source": [
    "SIRS_score = 0"
   ]
  },
  {
   "cell_type": "markdown",
   "metadata": {},
   "source": [
    "## Part 2: Getting the first input\n"
   ]
  },
  {
   "cell_type": "markdown",
   "metadata": {},
   "source": [
    "For SIRS, we need to know the patient's temperature, heart rate, breathing rate and white blood cell count.\n",
    "\n",
    "Let's start by asking the user to enter the temperature using the **input()** function:"
   ]
  },
  {
   "cell_type": "code",
   "execution_count": null,
   "metadata": {},
   "outputs": [],
   "source": [
    "temperature = input(\"What is the patient's temperature?\")"
   ]
  },
  {
   "cell_type": "markdown",
   "metadata": {},
   "source": [
    "This works - but there's a problem. Right now, the input will accept *anything* - including if the user doesn't input a number. That won't work, because we'll need to perform a calculation on it later.\n",
    "\n",
    "We can solve this using try/except. We put the code we want to try in a 'try' section. If the code isn't able to execute, we can return an error in the 'except' section.\n",
    "\n",
    "Let's try converting the input received into a number, and add an error if the code can't convert it. Test this out in the code block below."
   ]
  },
  {
   "cell_type": "code",
   "execution_count": null,
   "metadata": {},
   "outputs": [],
   "source": [
    "temperature = input(\"What is the patient's temperature? \")\n",
    "try:\n",
    "    # Tries to convert the string to a float, and sees if any errors occur (see below) \n",
    "    temperature = float(temperature)\n",
    "except ValueError:\n",
    "    print(\"You did not enter a number. Please enter a number.\")"
   ]
  },
  {
   "cell_type": "markdown",
   "metadata": {},
   "source": [
    "If the user enters an incorrect value, we want the code to keep running - and to prompt them to enter another number.\n",
    "\n",
    "We can do this using the **while** conditional. The while conditional will keep executing it's code as long as the conditional is met. For example:"
   ]
  },
  {
   "cell_type": "code",
   "execution_count": null,
   "metadata": {},
   "outputs": [],
   "source": [
    "index = 0\n",
    "while index < 10:\n",
    "    print(index)\n",
    "    index += 1\n",
    "print(\"Index no longer less than 0.\")"
   ]
  },
  {
   "cell_type": "markdown",
   "metadata": {},
   "source": [
    "In our case, we can use the while loop to keep running until the user as input a valid number. to do this, we can take our code from before and put it inside a 'while True' statement. 'While True' means that the code will keep on running forever until we call 'break' (so it's important not to forget that!).\n",
    "\n",
    "We'll put the 'break' statement inside an 'else' block, so it only gets executed if the 'try' statement was performed successfully."
   ]
  },
  {
   "cell_type": "code",
   "execution_count": null,
   "metadata": {},
   "outputs": [],
   "source": [
    "while True:\n",
    "    temperature = input(\"What is the patient's temperature? \")\n",
    "    try:\n",
    "        temperature = float(temperature)\n",
    "    except ValueError:\n",
    "        print(\"You did not enter a number. Please enter a number.\")\n",
    "    else:\n",
    "        break"
   ]
  },
  {
   "cell_type": "markdown",
   "metadata": {},
   "source": [
    "We could go one step further and enforce the user to enter a value in a 'reasonable' range, such as the temperature values required for life. Have a go at doing that below (optional):"
   ]
  },
  {
   "cell_type": "code",
   "execution_count": null,
   "metadata": {},
   "outputs": [],
   "source": [
    "while True:\n",
    "    temperature = input(\"What is the patient's temperature? \")\n",
    "    try:\n",
    "        temperature = float(temperature)\n",
    "    except ValueError:\n",
    "        print(\"You did not enter a number. Please enter a number.\")\n",
    "    else:\n",
    "        if # TODO: write logic which checks temperature is between a sensible range\n",
    "            break\n",
    "        else:\n",
    "            print(\"Temperature is not within a sensible range. Please try again.\")\n"
   ]
  },
  {
   "cell_type": "markdown",
   "metadata": {},
   "source": [
    "## Part 3: Update our score based on the input"
   ]
  },
  {
   "cell_type": "markdown",
   "metadata": {},
   "source": [
    "We now need some logic to handle how we update our SIRS score. If the temperature is above 38 or below 36, then we should increase the score by 1. We'll use an 'if' statement for this. We declared the variable 'SIRS_score' at the start, so this is the variable that we'll modify."
   ]
  },
  {
   "cell_type": "code",
   "execution_count": null,
   "metadata": {},
   "outputs": [],
   "source": [
    "print(\"Temperature: \", temp)\n",
    "if(temp > 38.0 or temp < 36.0):\n",
    "    SIRS_score += 1\n",
    "    print(\"Temperature is abnormal.\")\n",
    "    print(\"Points: \", SIRS_score)\n",
    "else:\n",
    "    print(\"Temperature is normal.\")\n",
    "    print(\"Points: \", SIRS_score)"
   ]
  },
  {
   "cell_type": "markdown",
   "metadata": {},
   "source": [
    "We now have the all the basic building blocks for (1) prompting the user to input information, (2) checking the information is appropriate and (3) using the information to update our score."
   ]
  },
  {
   "cell_type": "markdown",
   "metadata": {},
   "source": [
    "## Part 4: Requesting the other variables and updating the score"
   ]
  },
  {
   "cell_type": "markdown",
   "metadata": {},
   "source": [
    "Below are the three remaining variables we need to ask about, with gradually-reducing amounts of template code included. Work through them in-turn for practice."
   ]
  },
  {
   "cell_type": "markdown",
   "metadata": {},
   "source": [
    "### Heart rate"
   ]
  },
  {
   "cell_type": "code",
   "execution_count": null,
   "metadata": {},
   "outputs": [],
   "source": [
    "while # Add code here to control loop\n",
    "    heartRate = # Add code here to ask for input\n",
    "    try:\n",
    "        heartRate = int(heartRatertRate)\n",
    "    except:\n",
    "        print(\"You did not enter a number. Please enter an integer.\")\n",
    "        continue\n",
    "    else:\n",
    "        # Add code here to break the while loop"
   ]
  },
  {
   "cell_type": "code",
   "execution_count": null,
   "metadata": {},
   "outputs": [],
   "source": [
    "print(\"Heart rate: \", heartRate)\n",
    "if(heartRate > 90):\n",
    "    SIRS_score += 1\n",
    "    print(\"Heart rate is abnormal\")\n",
    "    print(\"Points: \", SIRS_score)\n",
    "else:\n",
    "    # Add code here to print out \"heart rate is normal\" and the updated points"
   ]
  },
  {
   "cell_type": "markdown",
   "metadata": {},
   "source": [
    "### Respiratory rate and PaCO2"
   ]
  },
  {
   "cell_type": "code",
   "execution_count": null,
   "metadata": {},
   "outputs": [],
   "source": [
    "while True:\n",
    "    respRate = input(\"What is the patient's respiratory rate per minute? \")\n",
    "    # Add code here to ask code to try something\n",
    "        respRate = int(respRate)\n",
    "    # Add code here to print this if an error\n",
    "        print(\"You did not enter a number. Please enter an integer.\")\n",
    "        continue\n",
    "    # Add code to control when to break the loop\n",
    "        break\n",
    "print(\"Respiratory rate: \", respRate)\n",
    "\n",
    "while True:\n",
    "    paCO2 = input(\"What is the patient's PaCO2 in mmHg? \")\n",
    "    try:\n",
    "        # Add code here to try converting input to a float.\n",
    "    except:\n",
    "        print(\"You did not enter a number. Please enter a number\")\n",
    "        continue\n",
    "    else:\n",
    "        break\n",
    "\n",
    "print(\"PaCO2: \", paCO2)"
   ]
  },
  {
   "cell_type": "code",
   "execution_count": null,
   "metadata": {},
   "outputs": [],
   "source": [
    "if(respRate > 20 or paCO2 < 32):\n",
    "    SIRS_score += 1\n",
    "    print(\"Points: \", SIRS_score)\n",
    "else:\n",
    "    print(\"Respiratory rate and PaCO2 are both normal.\")\n",
    "    print(\"Points: \", SIRS_score)"
   ]
  },
  {
   "cell_type": "markdown",
   "metadata": {},
   "source": [
    "### White blood cell count "
   ]
  },
  {
   "cell_type": "code",
   "execution_count": null,
   "metadata": {},
   "outputs": [],
   "source": [
    "while True:\n",
    "    # Add code for inputting and checking the white blood cell count.\n",
    "    # Try to do as much as possible from memory!\n",
    "    \n",
    "print(\"White Blood Cell count: \", wbc, \"x10^9/L\")"
   ]
  },
  {
   "cell_type": "code",
   "execution_count": null,
   "metadata": {},
   "outputs": [],
   "source": [
    "if(wbc > 12 or wbc < 4):\n",
    "    # Add code to add 1 to the SIRS score and print out the updated SIRS score\n",
    "\n",
    "else:\n",
    "    print(\"WBC is normal.\")\n",
    "    print(\"Points: \", SIRS_score)"
   ]
  },
  {
   "cell_type": "markdown",
   "metadata": {},
   "source": [
    "## Part 5: Reporting the final score"
   ]
  },
  {
   "cell_type": "markdown",
   "metadata": {},
   "source": [
    "Once you've written all the required code above, try running all the cells back-to-back and then printing out the final results using the cell below."
   ]
  },
  {
   "cell_type": "markdown",
   "metadata": {},
   "source": [
    "### Total score"
   ]
  },
  {
   "cell_type": "code",
   "execution_count": null,
   "metadata": {},
   "outputs": [],
   "source": [
    "print(\"Total score: \", SIRS_score)\n",
    "if(SIRS_score >=2):\n",
    "    print(\"The patient has met the criteria for SIRS.\")\n",
    "else:\n",
    "    print(\"Your patient has NOT met the criteria for SIRS.\")"
   ]
  },
  {
   "cell_type": "markdown",
   "metadata": {},
   "source": [
    "**Want to check your results?** See a complete example [here](https://github.com/chris-lovejoy/CodingForMedicine/blob/main/template_code/Coding_Medical_Calculator_demo.ipynb)."
   ]
  },
  {
   "cell_type": "markdown",
   "metadata": {},
   "source": [
    "## Next Steps"
   ]
  },
  {
   "cell_type": "markdown",
   "metadata": {},
   "source": [
    "Have a go at implementing one of the following:\n",
    "- [CHA₂DS₂-VASc score](https://www.mdcalc.com/calc/801/cha2ds2-vasc-score-atrial-fibrillation-stroke-risk) for Stroke Risk in Atrial Fibrillation \n",
    "- [CURB-65 score](https://www.mdcalc.com/calc/324/curb-65-score-pneumonia-severity) for pneumonia severity\n",
    "- [GCS](https://www.mdcalc.com/calc/64/glasgow-coma-scale-score-gcs) \n",
    "- [PERC score](https://www.mdcalc.com/calc/347/perc-rule-pulmonary-embolism) for pulmonary embolism\n",
    "- [qSOFA score](https://www.mdcalc.com/calc/2654/qsofa-quick-sofa-score-sepsis) for sepsis\n",
    "\n",
    "Fill out the form below and we'll provide feedback on your code."
   ]
  },
  {
   "cell_type": "markdown",
   "metadata": {},
   "source": [
    "**Any feedback on the exercise? Any questions? Want feedback on your code? Please fill out the form [here](https://forms.gle/yJ5f2auLH1f9mRvt7)**"
   ]
  }
 ],
 "metadata": {
  "kernelspec": {
   "display_name": "Python 3 (ipykernel)",
   "language": "python",
   "name": "python3"
  },
  "language_info": {
   "codemirror_mode": {
    "name": "ipython",
    "version": 3
   },
   "file_extension": ".py",
   "mimetype": "text/x-python",
   "name": "python",
   "nbconvert_exporter": "python",
   "pygments_lexer": "ipython3",
   "version": "3.10.10"
  }
 },
 "nbformat": 4,
 "nbformat_minor": 4
}
