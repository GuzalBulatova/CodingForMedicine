{
 "cells": [
  {
   "attachments": {},
   "cell_type": "markdown",
   "metadata": {},
   "source": [
    "<a href=\"https://colab.research.google.com/github/chris-lovejoy/CodingForMedicine/blob/main/exercises/Python_Principles_4.ipynb\" target=\"_parent\"><img src=\"https://colab.research.google.com/assets/colab-badge.svg\" alt=\"Open In Colab\"/></a>"
   ]
  },
  {
   "attachments": {},
   "cell_type": "markdown",
   "metadata": {},
   "source": [
    "# Python Principles\n",
    "\n",
    "# Part 4: Controlling Data"
   ]
  },
  {
   "cell_type": "markdown",
   "metadata": {},
   "source": [
    "In the last section, we covered manipulating data types. In this section, we will cover ways to control what happens to data. We will be covering how to ensure specific code blocks get executed and are able to loop over data structures or run code continuously still conditions are met. These building blocks will enable the use of controlling how data flows through the code. \n",
    "\n",
    "Once we can manipulate and control our data, programming becomes about being able to structure your code so that it's more readable and maintainable. We will cover this in the next exercise."
   ]
  },
  {
   "attachments": {},
   "cell_type": "markdown",
   "metadata": {},
   "source": [
    "## Links to Exercises\n",
    "[Python Principles 1](./Python_Principles.ipynb)\n",
    "\n",
    "[Python Principles 2](./Python_Principles_2.ipynb)\n",
    "\n",
    "[Python Principles 3](./Python_Principles_3.ipynb)\n",
    " \n",
    "[Python Principles 4](./Python_Principles_4.ipynb)\n",
    " \n",
    "[Python Principles 5](./Python_Principles_5.ipynb)\n"
   ]
  },
  {
   "attachments": {},
   "cell_type": "markdown",
   "metadata": {},
   "source": [
    "## Truthiness\n",
    "\n",
    "We will be covering the ability to do different tasks based on the conditions below. But it's important before doing that to understand the concept of truthiness. \n",
    "\n",
    "In Python, we use conditions to run specific parts of code. In order to do this, we use expressions and data types that get evaluated into `True` or `False` value. The question asked is if we had to convert the object to a boolean, what would we get? \n",
    "\n",
    "When an expression evaluates to `True` we call it a **truthy** value or we check for **truthiness**. Similarly, when an expression evaluates to `False` we call it a **falsy** value. \n",
    "\n",
    "Python conditional logic statements are all about truthiness checking. Python implicitly converts an expression and the result to a boolean. \n",
    "\n",
    "### Empty objects are a falsy\n",
    "\n",
    "Let's cover some examples. We use the `bool()` function to convert a data type to a `True` or `False` value in these examples."
   ]
  },
  {
   "cell_type": "code",
   "execution_count": 1,
   "metadata": {},
   "outputs": [
    {
     "data": {
      "text/plain": [
       "False"
      ]
     },
     "execution_count": 1,
     "metadata": {},
     "output_type": "execute_result"
    }
   ],
   "source": [
    "emptyList = []\n",
    "bool(emptyList)"
   ]
  },
  {
   "cell_type": "markdown",
   "metadata": {},
   "source": [
    "The `bool` function converts an expression to a truthy or falsy value. Here it returns `False`. This means that empty lists are falsy."
   ]
  },
  {
   "cell_type": "code",
   "execution_count": 2,
   "metadata": {},
   "outputs": [
    {
     "data": {
      "text/plain": [
       "False"
      ]
     },
     "execution_count": 2,
     "metadata": {},
     "output_type": "execute_result"
    }
   ],
   "source": [
    "emptyString = ''\n",
    "bool(emptyString)"
   ]
  },
  {
   "attachments": {},
   "cell_type": "markdown",
   "metadata": {},
   "source": [
    "In the cell bellow check what `bool` fucntion of empty dictionary returns"
   ]
  },
  {
   "cell_type": "code",
   "execution_count": null,
   "metadata": {},
   "outputs": [],
   "source": []
  },
  {
   "attachments": {},
   "cell_type": "markdown",
   "metadata": {},
   "source": [
    "Similarly, the `bool` function returns `False`. \n",
    "\n",
    "For objects that have a length, a non-zero length is considered truthy and lengths equal to zero are falsy.\n"
   ]
  },
  {
   "cell_type": "code",
   "execution_count": null,
   "metadata": {},
   "outputs": [],
   "source": [
    "bool(0)"
   ]
  },
  {
   "cell_type": "markdown",
   "metadata": {},
   "source": [
    "Here `bool` returns `False` which means zero is falsy.\n",
    "\n",
    "By default Python objects are truthy. Any object that has a that has a value of 0 or a length of zero is falsy."
   ]
  },
  {
   "attachments": {},
   "cell_type": "markdown",
   "metadata": {},
   "source": [
    "### Zero is falsy\n",
    "\n",
    "Truthiness is also about non-zeros. \n",
    "\n",
    "Run the snippet below"
   ]
  },
  {
   "cell_type": "code",
   "execution_count": 3,
   "metadata": {},
   "outputs": [
    {
     "data": {
      "text/plain": [
       "True"
      ]
     },
     "execution_count": 3,
     "metadata": {},
     "output_type": "execute_result"
    }
   ],
   "source": [
    "bool(1)"
   ]
  },
  {
   "attachments": {},
   "cell_type": "markdown",
   "metadata": {},
   "source": [
    "## Conditional Statements"
   ]
  },
  {
   "attachments": {},
   "cell_type": "markdown",
   "metadata": {},
   "source": [
    "\n",
    "\n",
    "If you would like to run some code where only certain conditions are met, we need some syntax to deal with this situation. In programming languages, this is a very common scenario. The keyword `if` provides this functionality.\n",
    "\n",
    "To use an if statement it's necessary to understand some of the operators we have seen in a different section. So make sure you review those.\n",
    "\n",
    "The syntax for an `if` statement \n",
    "\n",
    "`if` expression:\n",
    "\tcode\n",
    "\n",
    "It's important to indent the code below the `if` as this tells Python the code block is within the if statement.\n",
    "\n",
    "Let's seen an example of how this works. Run the snippet of code below."
   ]
  },
  {
   "cell_type": "code",
   "execution_count": 4,
   "metadata": {},
   "outputs": [
    {
     "name": "stdout",
     "output_type": "stream",
     "text": [
      "b is greater than a\n"
     ]
    }
   ],
   "source": [
    "a = 33\n",
    "b = 200\n",
    "if b > a:\n",
    "\tprint(\"b is greater than a\")"
   ]
  },
  {
   "cell_type": "markdown",
   "metadata": {},
   "source": [
    "In the code snippet above, we declare and assign the variables `a` and `b` with values `33` and `200` respectively. The `if b > a` evaluates the values of `b` and `a` and in the situation, b is greater than a, the line of code below gets executed. In this case, we output the string `B is greater than a. "
   ]
  },
  {
   "attachments": {},
   "cell_type": "markdown",
   "metadata": {},
   "source": [
    "### Using else with if\n",
    "\n",
    "In the code above, we have only provided one situation to run the code. But what if we have different responses when the condition hasnt been met?\n",
    "\n",
    "The `else` keyword provides this functionality.\n",
    "\n",
    "Run the code snippet below."
   ]
  },
  {
   "cell_type": "code",
   "execution_count": 5,
   "metadata": {},
   "outputs": [
    {
     "name": "stdout",
     "output_type": "stream",
     "text": [
      "a is greater than b\n"
     ]
    }
   ],
   "source": [
    "a = 200\n",
    "b = 33\n",
    "\n",
    "if b > a: \n",
    "\tprint(\"b is greater than a\")\n",
    "else: \n",
    "\tprint(\"a is greater than b\")"
   ]
  },
  {
   "attachments": {},
   "cell_type": "markdown",
   "metadata": {},
   "source": [
    "Write below some code which checks if `a` is negative and print the statement whether `a` is negative of positive"
   ]
  },
  {
   "cell_type": "code",
   "execution_count": 8,
   "metadata": {},
   "outputs": [],
   "source": [
    "a = -10"
   ]
  },
  {
   "cell_type": "markdown",
   "metadata": {},
   "source": [
    "### Checking multiple conditions with elif\n",
    "\n",
    "What if we need a variety of different conditions to check? We can use the keyword `elif` which stands for else if. \n",
    "\n",
    "Let's see an example of this, run the code snippet below."
   ]
  },
  {
   "cell_type": "code",
   "execution_count": 6,
   "metadata": {},
   "outputs": [
    {
     "name": "stdout",
     "output_type": "stream",
     "text": [
      "b is equal to a\n"
     ]
    }
   ],
   "source": [
    "a = 200\n",
    "b = 200\n",
    "if b > a: \n",
    "\tprint(\"b is greater than a\")\n",
    "elif b == a:\n",
    "\tprint(\"b is equal to a\")\n",
    "else: \n",
    "\tprint(\"a is greater than b\")\n"
   ]
  },
  {
   "cell_type": "markdown",
   "metadata": {},
   "source": [
    "Here `a` is equal to `b`. Python looks at the if statement, and the expression `b > a` is false, if there is a `elif` keyword, Python will evaluate the expression. In this case, the expression `b == a` is true so Python outputs `b is equal to a`."
   ]
  },
  {
   "attachments": {},
   "cell_type": "markdown",
   "metadata": {},
   "source": [
    "### Using conditional operators\n",
    "\n",
    "It's also possible to combine variables, datatypes and operators to form conditional expressions. `and`, `or` and `not` can be used to provide specific conditions to run code.\n",
    "\n",
    "Run the snippet below to see the `and` operator in use."
   ]
  },
  {
   "cell_type": "code",
   "execution_count": null,
   "metadata": {},
   "outputs": [],
   "source": [
    "a = 200\n",
    "b = 33\n",
    "c = 500 \n",
    "\n",
    "if a > b and c > a:\n",
    "\tprint(\"Both conditions are true\")"
   ]
  },
  {
   "attachments": {},
   "cell_type": "markdown",
   "metadata": {},
   "source": [
    "Here we need to satisfy two conditions `a > b` and `c > a` In the case `a` is 200, these two conditions are satisfied and the code prints `Both conditions are true`."
   ]
  },
  {
   "attachments": {},
   "cell_type": "markdown",
   "metadata": {},
   "source": [
    "Write condition below to check if `b` is the smallest variable across `a`, `b` and `c`"
   ]
  },
  {
   "cell_type": "code",
   "execution_count": 9,
   "metadata": {},
   "outputs": [],
   "source": [
    "a = 200\n",
    "b = 33\n",
    "c = 500 "
   ]
  },
  {
   "attachments": {},
   "cell_type": "markdown",
   "metadata": {},
   "source": [
    "Run the snippet below to see the `or` operator in use."
   ]
  },
  {
   "cell_type": "code",
   "execution_count": null,
   "metadata": {},
   "outputs": [],
   "source": [
    "a = 200\n",
    "b = 33\n",
    "c = 500 \n",
    "\n",
    "if a > b or a > c:\n",
    "\tprint(\"At least one of these conditions is true\")"
   ]
  },
  {
   "cell_type": "markdown",
   "metadata": {},
   "source": [
    "In this example, the `or` operator means at least one of these conditions should be true. In the case `a` is 200, a is greater than b but not greater than c. One of the conditions has been satisfied and `At least one of these conditions is true` is output to the screen.\n",
    "\n",
    "The `not` keyword is used to reverse the result of a conditional. "
   ]
  },
  {
   "cell_type": "code",
   "execution_count": 11,
   "metadata": {},
   "outputs": [
    {
     "name": "stdout",
     "output_type": "stream",
     "text": [
      "a is NOT greater than b\n"
     ]
    }
   ],
   "source": [
    "a = 33  \n",
    "b = 200  \n",
    "if not a > b:  \n",
    "    print(\"a is NOT greater than b\")"
   ]
  },
  {
   "cell_type": "markdown",
   "metadata": {},
   "source": [
    "Here the expression is evaluated as `a > b` in this case that is false, but the expression `not a > b` gets evaluated as True. So `a is NOT greater than b` is output to the screen. "
   ]
  },
  {
   "attachments": {},
   "cell_type": "markdown",
   "metadata": {},
   "source": [
    "Write some code below to check if `a` is smaller than `b` or  less than 0 and print the statement"
   ]
  },
  {
   "cell_type": "code",
   "execution_count": 12,
   "metadata": {},
   "outputs": [],
   "source": [
    "a = 33  \n",
    "b = 200  "
   ]
  },
  {
   "attachments": {},
   "cell_type": "markdown",
   "metadata": {},
   "source": [
    "### Nested if\n",
    "\n",
    "Sometimes you have several conditions depending on previous conditions to choose from to run different code. We can nest the if statements in this case to provide this functionality. \n",
    "\n",
    "Run the code snippet below."
   ]
  },
  {
   "cell_type": "code",
   "execution_count": null,
   "metadata": {},
   "outputs": [],
   "source": [
    "x = 41\n",
    "if x > 10:\n",
    "\tprint(\"Above 10\")\n",
    "\tif x > 20: \n",
    "\t\tprint(\"Above 20\")\n",
    "\telse: \n",
    "\t\tprint(\"But not above 20\")"
   ]
  },
  {
   "cell_type": "markdown",
   "metadata": {},
   "source": [
    "In the code snippet above, x is `41` so the expression `x > 10` is `True` . The program prints `Above 10` . Python then looks to the inner `if` statement, `x > 20` is true and then prints `Above 20`. We can also add a nested `else` statement, in the case that x was say for example `17`. \n",
    "\n",
    "Be careful with using nested if as it can get complicated, think about using different combinations of operators for example `if x > 10 and x < 20` for example."
   ]
  },
  {
   "attachments": {},
   "cell_type": "markdown",
   "metadata": {},
   "source": [
    "Write some code to check if `x` less than 100 and if `x` divisible by 10. Print a statement if its devisible by ten or not"
   ]
  },
  {
   "cell_type": "code",
   "execution_count": 13,
   "metadata": {},
   "outputs": [],
   "source": [
    "x = 60"
   ]
  },
  {
   "attachments": {},
   "cell_type": "markdown",
   "metadata": {},
   "source": [
    "##"
   ]
  },
  {
   "attachments": {},
   "cell_type": "markdown",
   "metadata": {},
   "source": [
    " Iterables\n",
    "\n",
    "Before we discuss the concept of looping, the word iterable has come up a few times in the course without explicitly defining it. An iterable is anything we can iterate over. By iterate we mean can Python move from one thing to another within the data type. For example, looping over a list of items or string characters.\n",
    "\n",
    "Lists, tuples, strings and sets are all iterables. \n",
    "\n"
   ]
  },
  {
   "attachments": {},
   "cell_type": "markdown",
   "metadata": {},
   "source": [
    "## While Loops\n",
    "\n",
    "In Python there are two ways that we can move from one item to another, called **looping**, the while and for loop. \n",
    "\n",
    "The `while` keyword allows Python to execute a set of statements as long as a condition expression evaluates to true. \n",
    "\n",
    "The syntax for a while loop is the following"
   ]
  },
  {
   "cell_type": "markdown",
   "metadata": {},
   "source": [
    "```\n",
    "while <condition>:\n",
    "\tstatements\n",
    "```"
   ]
  },
  {
   "cell_type": "markdown",
   "metadata": {},
   "source": [
    "Python runs through some steps based upon the above.\n",
    "\n",
    "1.  A `while` loop evaluates the `condition`\n",
    "2.  If the `condition` evaluates to `True`, the code inside the `while` loop is executed.\n",
    "3.  `condition` is evaluated again.\n",
    "4.  This process continues until the condition is `False`.\n",
    "5.  When `condition` evaluates to `False`, the loop stops.\n",
    "\n",
    "Lets Run an example."
   ]
  },
  {
   "cell_type": "code",
   "execution_count": null,
   "metadata": {},
   "outputs": [],
   "source": [
    "i = 1\n",
    "while i < 6:\n",
    "\tprint(i)\n",
    "\ti += 1"
   ]
  },
  {
   "cell_type": "markdown",
   "metadata": {},
   "source": [
    "Running this code, you can see the numbers 1 to 5 are printed out. Let's break this down slowly. \n",
    "\n",
    "The while loop often requires a variable assigned to some value prior to the while looping code. In the case above, we declare `i` and assign the number `1`. \n",
    "\n",
    "On the first loop, `i < 6` is evaluated. In this case, `i = 1` and this expression evaluates to true. So we print the number to the screen and then we add 1 to the variable `i` using the augmented operator `+=`. By doing this, on the next evaluation of the expression`i < 6`, `i` is still less than 6 but is now equal to `2`. \n",
    "\n",
    "While loops evaluate the expression first, then run the statements within the while block. After that, the expression keeps getting evaluated until it turns false. In this case, the loop will continue printing numbers till i is assigned the value `6` on this loop, and the while loop breaks. \n",
    "\n",
    "There are occasions a while loop can go on forever, the expression never becomes false. We call this an **infinite loop**. We can use the `else` statement to run the code block when the condition is no longer true. \n",
    "\n",
    "Lets look at this example."
   ]
  },
  {
   "cell_type": "code",
   "execution_count": null,
   "metadata": {},
   "outputs": [],
   "source": [
    "i = 1\n",
    "while i < 6:\n",
    "\tprint(i)\n",
    "\ti += 1\n",
    "else:\n",
    "\tprint(\"i is no longer 6\")"
   ]
  },
  {
   "cell_type": "markdown",
   "metadata": {},
   "source": [
    "Run the code snippet below. What will happen?"
   ]
  },
  {
   "cell_type": "code",
   "execution_count": null,
   "metadata": {},
   "outputs": [],
   "source": [
    "i = 0 \n",
    "while i < 6:\n",
    "\ti += 1\n",
    "\tif i == 3:\n",
    "\t\tcontinue\n",
    "\tprint(i)"
   ]
  },
  {
   "attachments": {},
   "cell_type": "markdown",
   "metadata": {},
   "source": [
    "The numbers 1 to 6 get printed out in this code snippet. Here the while loop checks for i being less than 6. When i does get assigned 3 we then run the if statement code which says to continue and then run the print statement below.\n",
    "\n",
    "### Break\n",
    "\n",
    "We can also force Python to break a while loop even if the condition is still true. For example, if you want to print a certain amount of numbers. We can force Python to break by using the `break` keyword after a certain number of iterations.\n",
    "\n",
    "Run the code snippet below."
   ]
  },
  {
   "cell_type": "code",
   "execution_count": null,
   "metadata": {},
   "outputs": [],
   "source": [
    "i = 1 \n",
    "while i < 6:\n",
    "\tprint(i)\n",
    "\tif i == 3:\n",
    "\t\tbreak\n",
    "\ti += 1"
   ]
  },
  {
   "cell_type": "markdown",
   "metadata": {},
   "source": [
    "\n",
    "Here the numbers `1`, `2` and `3` are printed. We assign `1` to the variable `i`. The while loop evaluates `i < 6`, print the numbers and then assigns one above the current value of `i`. In the case that `i` is 3, the integer `3` is printed. Then the if statement will be run and we break the while loop. \n",
    "\n",
    "When you don't know how many values or number of items are in a data type use a while loop."
   ]
  },
  {
   "attachments": {},
   "cell_type": "markdown",
   "metadata": {},
   "source": [
    "Write some code to run the while loop forever but break it if `i` > 1000"
   ]
  },
  {
   "cell_type": "code",
   "execution_count": 14,
   "metadata": {},
   "outputs": [],
   "source": [
    "i = 0"
   ]
  },
  {
   "attachments": {},
   "cell_type": "markdown",
   "metadata": {},
   "source": [
    "## For loops\n",
    "\n",
    "In contrast to the while loops, for loops will loop over a data type and run a block of statements a certain number of times.  For example, say you want to print out the numbers 1 to 100 to the output. Or show a message 100 times, we can use a for loop to do this.\n",
    "\n",
    "We use a for loop when the number of times we want to loop over a data type is known, unlike a while loop when we use this when the number of times we want to loop over is unknown.\n",
    "\n",
    "We use the keyword `for` and the `in` operator to loop over data types.\n",
    "\n",
    "The syntax for a for loop is the following. "
   ]
  },
  {
   "cell_type": "markdown",
   "metadata": {},
   "source": [
    "```\n",
    "for X in Y:\n",
    "\tstatements\n",
    "```"
   ]
  },
  {
   "cell_type": "markdown",
   "metadata": {},
   "source": [
    "Y is the data type we wish to loop over like a list, dictionary or tuple. By specifying a variable name X, Python assigns the variable X values of an iterable (eg a list item). We can access all items within a data type and run blocks of code that will use these items. Note that the looping continues till we reach the last item in the iterable.\n",
    "\n",
    "For loops can be used for any iterable, for example, a list, dictionary or tuple. \n",
    "\n",
    "Let's see an example to understand how this works, run the snippet below."
   ]
  },
  {
   "cell_type": "code",
   "execution_count": null,
   "metadata": {},
   "outputs": [],
   "source": [
    "courses = ['Anatomy','Physiology','Pharmacology']\n",
    "for course in courses:\n",
    "\tprint(course)"
   ]
  },
  {
   "cell_type": "markdown",
   "metadata": {},
   "source": [
    "In this example, we define the list `courses`. The for keyword tells Python we want to loop over `courses`. We use the expression `course in courses` to loop. We essentially declare the variable `course` and use it to assign each list item to it to do the looping. The `in courses` part of the expression is always true when using the `for` keyword. \n",
    "\n",
    "On the first loop, the variable `course` is assigned the value `Anatomy` then the statement to print the list item assigned to `course` is executed. In this case printing `Anatomy` string to the output. The for loop looks to the `courses` variable to loop over every list item. \n",
    "\n",
    "On the second loop, we assign the variable `course` the value `Physiology` and then use that to print the string `Physiology` to the output.\n",
    "\n",
    "On the third loop, we assign the variable `course` the value `Pharmacology` and then use that to print the string `Pharmacology` to the output.\n",
    "\n",
    "Look at the code snippet below and loop over the tuple."
   ]
  },
  {
   "cell_type": "code",
   "execution_count": null,
   "metadata": {},
   "outputs": [],
   "source": [
    "courses = ('Python','Data Science', 'Machine Learning')"
   ]
  },
  {
   "cell_type": "markdown",
   "metadata": {},
   "source": [
    "Similarly, it's possible to loop over a dictionary too.\n",
    "\n",
    "Run the snippet below.\n"
   ]
  },
  {
   "cell_type": "code",
   "execution_count": null,
   "metadata": {},
   "outputs": [],
   "source": [
    "courses = {\n",
    "\t'Spring': 'Python',\n",
    "\t'Summer': 'Data Science',\n",
    "\t'Autumn': 'Machine Learning'\n",
    "}\n",
    "\n",
    "for course in courses: \n",
    "\tprint(courses[course])"
   ]
  },
  {
   "attachments": {},
   "cell_type": "markdown",
   "metadata": {},
   "source": [
    "It's also possible to loop over just the keys or values. We can also loop over each key and value at the same time using the dictionary methods described previously.\n",
    "\n"
   ]
  },
  {
   "cell_type": "code",
   "execution_count": null,
   "metadata": {},
   "outputs": [],
   "source": [
    "courses = {\n",
    "\t'Spring': 'Python',\n",
    "\t'Summer': 'Data Science',\n",
    "\t'Autumn': 'Machine Learning'\n",
    "}\n",
    "\n",
    "\n",
    "for course in courses.keys():\n",
    "\tprint(course)"
   ]
  },
  {
   "attachments": {},
   "cell_type": "markdown",
   "metadata": {},
   "source": [
    "Write some code to loop over values of dictionary."
   ]
  },
  {
   "cell_type": "code",
   "execution_count": 15,
   "metadata": {},
   "outputs": [],
   "source": [
    "courses = {\n",
    "\t'Spring': 'Python',\n",
    "\t'Summer': 'Data Science',\n",
    "\t'Autumn': 'Machine Learning'\n",
    "}\n"
   ]
  },
  {
   "cell_type": "markdown",
   "metadata": {},
   "source": [
    "The dictionary `items()` method returns a list of tuples that contain both the key and value pair. We use tuple unpacking to access both the key and value pair in a for loop. \n",
    "\n",
    "Run the code snippet below."
   ]
  },
  {
   "cell_type": "code",
   "execution_count": null,
   "metadata": {},
   "outputs": [],
   "source": [
    "for time,course in courses.items():\n",
    "\tprint(time,course)\n"
   ]
  },
  {
   "cell_type": "markdown",
   "metadata": {},
   "source": [
    "The code prints out the key and value pairs together in the `courses` dictionary. The line `time,course in courses.items()` is where we use tuple unpacking. For each list item (a tuple), we assign the key to the variable `time` and the value to the variable `courses`. We can then access those within the code block to print them out."
   ]
  },
  {
   "attachments": {},
   "cell_type": "markdown",
   "metadata": {},
   "source": [
    "### Looping over indexes\n",
    "\n",
    "Sometimes you need to loop over something and use the index of the data type at the same time. First, always ask, do I even need an index whilst I'm looping? If not, just use a for loop and an `in` operator.\n",
    "\n",
    "With looping, we will see the `range` function used. By passing a number to the `range` function you define a range of values from 0 to up to the number passed but not including that number. For example if you pass the number 3 to the range function, the values 0,1,2 will be available."
   ]
  },
  {
   "cell_type": "code",
   "execution_count": null,
   "metadata": {},
   "outputs": [],
   "source": [
    "range(4) "
   ]
  },
  {
   "cell_type": "markdown",
   "metadata": {},
   "source": [
    "Run the snippet below.\n"
   ]
  },
  {
   "cell_type": "code",
   "execution_count": null,
   "metadata": {},
   "outputs": [],
   "source": [
    "for i in range(4):\n",
    "\tprint(i)"
   ]
  },
  {
   "cell_type": "markdown",
   "metadata": {},
   "source": [
    "Python outputs the values 0 to 3. The line `range(4)` specifies the values `0`, `1`, `2`, `3` and `i` get assigned the value 0,1,2,3 on each loop iteration.\n",
    "\n",
    "We can use the `range` function with data types too. \n",
    "\n",
    "Run the code snippet below."
   ]
  },
  {
   "cell_type": "code",
   "execution_count": null,
   "metadata": {},
   "outputs": [],
   "source": [
    "courses = ['Anatomy','Physiology', 'Pharmacology']\n",
    "for i in range(len(courses)):\n",
    "\tprint(i+1, courses[i])"
   ]
  },
  {
   "attachments": {},
   "cell_type": "markdown",
   "metadata": {},
   "source": [
    "The output of this code is.\n",
    "\n",
    "```\n",
    "1 Anatomy\n",
    "2 Physiology\n",
    "3 Pharmacology\n",
    "```\n",
    "\n",
    "Here we are declaring `i` the variable and using the function `range(len(courses))` to supply the numbers to iterate over. `len(courses)` returns the number of list items, which in this case is 3. `range(3)` returns an object that stores the values 0 up to 3.\n",
    "\n",
    "So on the first loop, `i` is equal to 0, so i + 1 is 1. `courses[0]` is `Anatomy`. So Python prints out `1 Anatomy`. This is repeated till all list items are iterated over.\n",
    "\n",
    "Reasoning about `i+1` and `courses[i]` can be difficult to read and maintain. In the next section we will see how we can loop differently."
   ]
  },
  {
   "attachments": {},
   "cell_type": "markdown",
   "metadata": {},
   "source": [
    "Write a loop with a `range` function which will print only first and second elements of `courses`"
   ]
  },
  {
   "cell_type": "code",
   "execution_count": 17,
   "metadata": {},
   "outputs": [],
   "source": [
    "courses = ['Anatomy','Physiology', 'Pharmacology']"
   ]
  },
  {
   "attachments": {},
   "cell_type": "markdown",
   "metadata": {},
   "source": [
    "### Using Enumerate to Loop with Indexes\n",
    "\n",
    "Unlike JavaScript or C, Python for loops doesn't have indexes. This is why there are workarounds for this type of functionality. We can use built-in functions to provide this type of functionality.\n",
    "\n",
    "The built-in function `enumerate`, takes a collection like a list and returns a list of tuples. Each tuple contains a list item and an the index number of the list item.\n",
    "\n",
    "Run the cell below to see this."
   ]
  },
  {
   "cell_type": "code",
   "execution_count": null,
   "metadata": {},
   "outputs": [],
   "source": [
    "courses = ['Python','Data Science','Anatomy']\n",
    "for course in enumerate(courses):\n",
    "\tprint(course)"
   ]
  },
  {
   "cell_type": "markdown",
   "metadata": {},
   "source": [
    "In this example, we can see how enumerate works. Each iteration of the loop the variable `courses` is assigned to a tuple. Inside that tuple we have the index and the list item of `courses`."
   ]
  },
  {
   "cell_type": "code",
   "execution_count": null,
   "metadata": {},
   "outputs": [],
   "source": [
    "courses = ['Python','Data Science','Anatomy']\n",
    "for course in enumerate(courses,start=1):\n",
    "\tprint(course[0],course[1])"
   ]
  },
  {
   "attachments": {},
   "cell_type": "markdown",
   "metadata": {},
   "source": [
    "In this example, we can access both the index and list items separately using enumerate using index notation on the tuples that enumerate returns."
   ]
  },
  {
   "cell_type": "markdown",
   "metadata": {},
   "source": [
    "In the cell below, loop over the tuple and print the list item index and the list item together."
   ]
  },
  {
   "cell_type": "code",
   "execution_count": null,
   "metadata": {},
   "outputs": [],
   "source": [
    "courses = ('Anatomy','Physiology','Clinical Sciences','Python')"
   ]
  },
  {
   "cell_type": "markdown",
   "metadata": {},
   "source": [
    "Enumerate also has a parameter `start` to specify the index to start at if you wish to.\n"
   ]
  },
  {
   "cell_type": "code",
   "execution_count": null,
   "metadata": {},
   "outputs": [],
   "source": [
    "courses = ['Python','Data Science','Anatomy']\n",
    "for course in enumerate(courses,start=1):\n",
    "\tprint(course[0],course[1])"
   ]
  },
  {
   "attachments": {},
   "cell_type": "markdown",
   "metadata": {},
   "source": [
    "### Looping over multiple iterables\n",
    "\n",
    "Sometimes you want to loop over multiple data types at the same time. Where perhaps two lists are linked together by order of items.\n",
    "\n"
   ]
  },
  {
   "cell_type": "markdown",
   "metadata": {},
   "source": [
    "To do this effectively, we can use another built-in function called `zip` .\n",
    "\n",
    "The `zip` function takes a set of iterables like a list and returns a nested tuple. Each tuple contains the list items at a specific index of each list passed to the zip function.\n",
    "\n",
    "We can access each list item from two or more lists simultaneously by using the zip function in a for loop and tuple unpacking as we have done before.\n",
    "\n",
    "Run the code snippet below to see an example of this."
   ]
  },
  {
   "cell_type": "code",
   "execution_count": null,
   "metadata": {},
   "outputs": [],
   "source": [
    "courses = ['Python','Data Science','Machine Learning']\n",
    "grades = [100,50,40]\n",
    "\n",
    "for course,grade in zip(courses,grades): \n",
    "\tprint(course, '-', grade)"
   ]
  },
  {
   "cell_type": "markdown",
   "metadata": {},
   "source": [
    "This returns a list of courses and the grades that correspond to the course. The `zip(courses, grades)` returns a nested tuple. Each inner tuple has the list items from the two lists at a specific index for example `('Python',100)`. \n",
    "\n",
    "We can unpack each inner tuple by using `course, grade in zip(courses, grades)` which means for an inner tuple like `('Python',100)`, the variable `course` is assigned `Python` and assigned grade is assigned `100`.\n",
    "\n",
    "We then print these variables with `-` inbetween using the print function."
   ]
  },
  {
   "attachments": {},
   "cell_type": "markdown",
   "metadata": {},
   "source": [
    "### Nested for loops\n",
    "\n",
    "Sometimes you need to loop over a nested list. For example, looping over a list that has lists as list items, but still needs to access all values within.\n",
    "\n",
    "To do this, we use a for loop that corresponds to the looping over the outer list and inside that code block, we have another for loop to loop over the inner list.  \n",
    "\n",
    "Look at the `courses` variable to understand what we mean. We want to access all values in this nested list. Run the snippet below."
   ]
  },
  {
   "cell_type": "code",
   "execution_count": null,
   "metadata": {},
   "outputs": [],
   "source": [
    "courses = [['Python',[10,20,30]],['Data Science',[23,42,23]],['Machine Learning',[23,42,23]]]\n",
    "\n",
    "for course in courses:\n",
    "\tprint('course -',course[0])\n",
    "\tfor grade in course[1]:\n",
    "\t\tprint('grade -',grade)"
   ]
  },
  {
   "cell_type": "markdown",
   "metadata": {},
   "source": [
    "This code snippet will print for each course all of the grades stored. We have a nested list where each list item is a list eg `['Python',[10,20,30]]` which is the name of the course and a list of grades.\n",
    "\n",
    "Here we want to access both the course name and all of the course grades together. This is where a nested for loop is useful.\n",
    "\n",
    "In the outer for loop  `for course in courses` we loop over the outer list `courses`. The variable `course` refers to the inner list item.\n",
    "\n",
    "On the first iteration, we print `course - Python` as `course[0]` is `Python`.  But we also then have an inner loop too. We specify we want to loop over `course[1]` which is `[10,20,30]` in the first loop. The variable `grade` is assigned to each list item number and we print out `grade - 10` `, grade - 20`, and `grade -30`. \n",
    "\n",
    "Once the inner for loop is complete Python will then turn to the next outer list item `['Data Science',[23,42,23]]` and the cycle repeats till all list items are looped over.\n",
    "\n",
    "\n",
    "In the cell below, print out the course title and all over the grades"
   ]
  },
  {
   "cell_type": "code",
   "execution_count": null,
   "metadata": {},
   "outputs": [],
   "source": [
    "courses = [['Anatomy',[10,20]],['Physiology',[53,20]], ['Biochemistry',[45,25]]]"
   ]
  },
  {
   "cell_type": "markdown",
   "metadata": {},
   "source": [
    "## Next Steps"
   ]
  },
  {
   "cell_type": "markdown",
   "metadata": {},
   "source": [
    "1. We have made a grocery list, and as we check off items on that list, we would like to remove them.\n",
    "\n",
    "Write code that removes the items from `'groceryList'` one by one, until it is empty. If you print the elements you remove, the expected behavior would look as follows. "
   ]
  },
  {
   "cell_type": "code",
   "execution_count": 24,
   "metadata": {},
   "outputs": [
    {
     "data": {
      "text/plain": [
       "['paprika', 'tofu', 'garlic', 'quinoa', 'carrots', 'broccoli', 'hummus']"
      ]
     },
     "execution_count": 24,
     "metadata": {},
     "output_type": "execute_result"
    }
   ],
   "source": [
    "groceryList = ['paprika', 'tofu', 'garlic', 'quinoa', 'carrots', 'broccoli', 'hummus'];\n",
    "\n",
    "# Your code.\n",
    "\n",
    "# Prints:\n",
    "# paprika\n",
    "# tofu\n",
    "# garlic\n",
    "# quinoa\n",
    "# carrots\n",
    "# broccoli\n",
    "# hummus\n",
    "\n",
    "groceryList #[]"
   ]
  },
  {
   "cell_type": "markdown",
   "metadata": {},
   "source": [
    "2. Count the number of elements in scores that are 100 or above."
   ]
  },
  {
   "cell_type": "code",
   "execution_count": null,
   "metadata": {},
   "outputs": [],
   "source": [
    "scores = [96, 47, 113, 89, 100, 102]"
   ]
  },
  {
   "cell_type": "markdown",
   "metadata": {},
   "source": [
    "3. We've been given an list of vocabulary words grouped into sub-list by meaning. This is a two-dimensional list or a nested list. Write some code that loops through the sub-arrays and prints each vocabulary word to the console."
   ]
  },
  {
   "cell_type": "code",
   "execution_count": 25,
   "metadata": {},
   "outputs": [],
   "source": [
    "vocabulary = [\n",
    "  ['happy', 'cheerful', 'merry', 'glad'],\n",
    "  ['tired', 'sleepy', 'fatigued', 'drained'],\n",
    "  ['excited', 'eager', 'enthused', 'animated']\n",
    "]\n",
    "\n",
    "# Expected output:\n",
    "# happy\n",
    "# cheerful\n",
    "# merry\n",
    "# etc..."
   ]
  },
  {
   "cell_type": "markdown",
   "metadata": {},
   "source": [
    "4. We generated parts of a passcode and now want to combine them into a string. Write some code that returns a string, with each portion of the passcode separated by a hyphen (-)."
   ]
  },
  {
   "cell_type": "code",
   "execution_count": null,
   "metadata": {},
   "outputs": [],
   "source": [
    "passcode = ['11', 'jZ5', 'hQ3f*', '8!7g3', 'p3Fs']"
   ]
  },
  {
   "cell_type": "markdown",
   "metadata": {},
   "source": [
    "5. The following code keeps looping forever (You can press the stop icon below the menu to stop it). Why is that ? Also modify it so that it stops after the first iteration"
   ]
  },
  {
   "cell_type": "code",
   "execution_count": 28,
   "metadata": {},
   "outputs": [
    {
     "name": "stdout",
     "output_type": "stream",
     "text": [
      "and on\n"
     ]
    }
   ],
   "source": [
    "while(True):\n",
    "    print('and on')"
   ]
  },
  {
   "cell_type": "markdown",
   "metadata": {},
   "source": [
    "6. Write a loop that prints the `greeting` three times"
   ]
  },
  {
   "cell_type": "code",
   "execution_count": null,
   "metadata": {},
   "outputs": [],
   "source": [
    "greeting = 'Hello there'"
   ]
  },
  {
   "attachments": {},
   "cell_type": "markdown",
   "metadata": {},
   "source": [
    "7. Using the code below as a starting point, write a while loop that logs the elements of list at each index, and terminates after logging the last element of the list."
   ]
  },
  {
   "cell_type": "code",
   "execution_count": null,
   "metadata": {},
   "outputs": [],
   "source": [
    "numList = [1, 2, 3, 4]\n",
    "index = 0"
   ]
  },
  {
   "cell_type": "markdown",
   "metadata": {},
   "source": [
    "8. Write a while loop that logs all odd natural numbers between 1 and 40."
   ]
  },
  {
   "cell_type": "code",
   "execution_count": null,
   "metadata": {},
   "outputs": [],
   "source": []
  },
  {
   "cell_type": "markdown",
   "metadata": {},
   "source": [
    "This is quite a lot to wrap your head around, so don't be alarmed for it takes a while to sink in.\n",
    "\n",
    "## Check your understanding\n",
    "\n",
    "1. What is a truthy value ?\n",
    "2. When is a value falsy ?\n",
    "3. Can you give an example of an if else statement ?\n",
    "4. What is an iterable ?\n",
    "5. When would you use a while loop as opposed to a for loop ?\n",
    "6. Can you give an example of using a for loop ?\n",
    "7. Can you give an example of usinga while loop ?\n",
    "8.  What does the zip function return ?\n",
    "9. What does the enumerate function return ?\n",
    "10. How can we loop over indexes without using the range function ?\n",
    "11. How can we loop over two lists at the same time ? Can you give an example ?\n",
    "12. Can you give an example of a nested for loop ?\n",
    "\n",
    "## Summary\n",
    "\n",
    "In this exercise, we have covered the basics of controlling what happens to data. We have defined truthiness and how Python evaluates expressions. We can create conditional logic to run specific code based on different situations. \n",
    "\n",
    "Looping in programming allows us to access items from a list or a tuple. The for loop allows us to loop over the data type when we know how many items are in the collection. The while loop allows us to loop based on a condition being satisfied. We don't need to know how many items are in a collection to access them.\n",
    "\n",
    "Armed with this knowledge we can now manipulate and control what happens to data throughout a piece of code. \n"
   ]
  },
  {
   "attachments": {},
   "cell_type": "markdown",
   "metadata": {},
   "source": [
    "## Feedback \n",
    "\n",
    "Fill out the form below and we'll provide feedback on your code.\n",
    "\n",
    "**Any feedback on the exercise? Any questions? Want feedback on your code? Please fill out the form [here](https://docs.google.com/forms/d/e/1FAIpQLSdoOjVom8YKf11LxJ_bWN40afFMsWcoJ-xOrKhMbfBzgxTS9A/viewform).**"
   ]
  }
 ],
 "metadata": {
  "kernelspec": {
   "display_name": ".venv",
   "language": "python",
   "name": "python3"
  },
  "language_info": {
   "codemirror_mode": {
    "name": "ipython",
    "version": 3
   },
   "file_extension": ".py",
   "mimetype": "text/x-python",
   "name": "python",
   "nbconvert_exporter": "python",
   "pygments_lexer": "ipython3",
   "version": "3.8.8"
  },
  "orig_nbformat": 4,
  "vscode": {
   "interpreter": {
    "hash": "904d4773530d91043a075207daf963b9534e32657296fd62ca55db6fa31f341b"
   }
  }
 },
 "nbformat": 4,
 "nbformat_minor": 2
}
