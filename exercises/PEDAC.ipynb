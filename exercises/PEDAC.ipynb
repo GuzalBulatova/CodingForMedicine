{
 "cells": [
  {
   "attachments": {},
   "cell_type": "markdown",
   "metadata": {},
   "source": [
    "# PEDAC Example\n",
    "\n",
    "## Problem Statement\n",
    "\n",
    "Write a function that takes one argument, a positive integer, and returns a list of the digits in the number.\n",
    "\n",
    "Examples:\n",
    "```\n",
    "digit_list(12345)        // [1, 2, 3, 4, 5]\n",
    "digit_list(7)           // [7]\n",
    "digit_list(375290)      // [3, 7, 5, 2, 9, 0]\n",
    "digit_list(444)         // [4, 4, 4]\n",
    "```"
   ]
  },
  {
   "attachments": {},
   "cell_type": "markdown",
   "metadata": {},
   "source": [
    "## Code"
   ]
  },
  {
   "cell_type": "code",
   "execution_count": 2,
   "metadata": {},
   "outputs": [
    {
     "data": {
      "text/plain": [
       "[1, 2, 3, 4, 5]"
      ]
     },
     "execution_count": 2,
     "metadata": {},
     "output_type": "execute_result"
    }
   ],
   "source": [
    "'''\n",
    "Problem\n",
    "Input: positive integer\n",
    "Output: list of positive integers\n",
    "\n",
    "Rules:\n",
    "1. Create a function takes as input a positive integer \n",
    "2. Returns a list of digits in the integer \n",
    "\n",
    "Constraints:\n",
    "1. Numbers are positive integers\n",
    "2. A list is returned \n",
    "3. The function takes only one value\n",
    "\n",
    "Questions:\n",
    "1. What happens if no integer is provided ?\n",
    "2. What happens if a minus number is provided ?\n",
    "3. What happens if a float number is provided ?\n",
    "4. What happens if a non-integer value is provided ? eg do they accept string that has digits \n",
    "5. What happens if more than one integer is passed \n",
    "6. How is passing in zero handled ? Do we return a empty list ?\n",
    "\n",
    "Examples\n",
    "1. digit_list(12345) -  [1, 2, 3, 4, 5] \n",
    "2. No additional information found by other examples\n",
    "\n",
    "Data Structures \n",
    "1. integers that need to be converted to lists (nothing too complicated)\n",
    "\n",
    "Algorithm\n",
    "1. Convert integer to a string \n",
    "2. Convert a string of digits into an list of strings characters.\n",
    "3. Convert list of strings to list of numbers\n",
    "3.1 Using a for loop \n",
    "3.2 Could use a list comprehension???\n",
    "'''\n",
    "\n",
    "# Solution 1\n",
    "def digit_list(num):\n",
    " new_num_list = []\n",
    " num_list = list(str(num))\n",
    " for num in num_list:\n",
    "    new_num_list.append(int(num))\n",
    " return new_num_list\n",
    "\n",
    "digit_list(12345)\n",
    "\n",
    "#Solution 2\n",
    "def digit_list2(num):\n",
    "    return [int(number) for number in list(str(num))]\n",
    "\n",
    "digit_list2(12345)"
   ]
  }
 ],
 "metadata": {
  "kernelspec": {
   "display_name": "Python 3",
   "language": "python",
   "name": "python3"
  },
  "language_info": {
   "codemirror_mode": {
    "name": "ipython",
    "version": 3
   },
   "file_extension": ".py",
   "mimetype": "text/x-python",
   "name": "python",
   "nbconvert_exporter": "python",
   "pygments_lexer": "ipython3",
   "version": "3.10.11"
  },
  "orig_nbformat": 4
 },
 "nbformat": 4,
 "nbformat_minor": 2
}
