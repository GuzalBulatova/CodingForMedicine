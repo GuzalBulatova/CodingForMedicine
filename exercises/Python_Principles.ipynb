{
 "cells": [
  {
   "attachments": {},
   "cell_type": "markdown",
   "id": "bbd25a0a",
   "metadata": {},
   "source": [
    "<a href=\"https://colab.research.google.com/github/chris-lovejoy/CodingForMedicine/blob/main/exercises/Python_Principles.ipynb\" target=\"_parent\"><img src=\"https://colab.research.google.com/assets/colab-badge.svg\" alt=\"Open In Colab\"/></a>"
   ]
  },
  {
   "cell_type": "markdown",
   "id": "c82d7193",
   "metadata": {},
   "source": [
    "# Python Principles\n"
   ]
  },
  {
   "cell_type": "markdown",
   "id": "e2502982",
   "metadata": {},
   "source": [
    "**In this exercise, we will focus on the core python principles for you to do data science.**\n",
    "\n",
    "We will learn the words of Python called 'syntax', what data we can use and how to store it. Furthermore, we will learn how to manipulate and control that data. Lastly, we will help you structure your code to write a working python program. \n",
    "\n",
    "In the following exercises, we'll learn how to:\n",
    "\n",
    "- How to write python statements (Syntax)\n",
    "\n",
    "- How to store and manipulate data in Python\n",
    "\n",
    "- How to control where data flows through a program in Python\n",
    "\n",
    "- Be able to structure the code in Python\n",
    "\n",
    "- Be able to create a working program in Python\n",
    "\n",
    "By the end of this, you will be confident in writing Python code and can approach any problem you encounter with a structure."
   ]
  },
  {
   "attachments": {},
   "cell_type": "markdown",
   "id": "03c13881",
   "metadata": {},
   "source": [
    "## Links to Exercises\n",
    "[Python Principles 1](./Python_Principles.ipynb)\n",
    "\n",
    "[Python Principles 2](./Python_Principles_2.ipynb)\n",
    "\n",
    "[Python Principles 3](./Python_Principles_3.ipynb)\n",
    " \n",
    " [Python Principles 4](./Python_Principles_4.ipynb)\n",
    " \n",
    "[Python Principles 5](./Python_Principles_5.ipynb)\n"
   ]
  },
  {
   "cell_type": "markdown",
   "id": "a0e09066",
   "metadata": {},
   "source": [
    "## Part 1 Vocabulary and Syntax: \n",
    "\n",
    "This section will give you the vocabulary to describe code precisely as well as introducing you to way to write Python called **Syntax**. Some topics may require knowledge of things we haven't covered yet. Don't let this throw you. Below is the essential information you need for now and these topics will be discussed in a later section.\n",
    "\n"
   ]
  },
  {
   "attachments": {},
   "cell_type": "markdown",
   "id": "95450115",
   "metadata": {},
   "source": [
    "### Data Types \n",
    "\n",
    "The essence of most languages is to deal with data. The specific data we can use in Python are called **data types**. The type part of the phrase means that Python has rules on what can and can't be done with a piece of data. \n",
    "\n",
    "For example, to add integers (whole numbers) is specific to an integer data type but wouldn't make sense for some other data types. Python does not allow you to do this and this constraint is implicitly a part of the data types we can use.\n",
    "\n",
    "A data type can be either primitive or non-primitive where primitive data types are the simplest way to represent data in Python. Non-primitive types are more complicated and we'll cover them below.\n",
    "\n",
    "**Primitive data types**\n",
    "1. Integer - Whole numbers \n",
    "2. Float - Numbers with a decimal point\n",
    "3. String - Text characters\n",
    "4. Boolean - True or False values\n",
    "5. None Type - None is a special type of data that conveys emptiness\n",
    "\n",
    "See the cell below to see examples of each data type.\n"
   ]
  },
  {
   "cell_type": "code",
   "execution_count": null,
   "id": "c97be59c",
   "metadata": {},
   "outputs": [],
   "source": [
    "3 # Integer\n",
    "4.0 # Float\n",
    "\"Hello World\" # String\n",
    "True # boolean\n",
    "None # None Type"
   ]
  },
  {
   "cell_type": "markdown",
   "id": "7c02b8d1",
   "metadata": {},
   "source": [
    "Run the cells below to discover some data and what its type is. Don't worry about what the code means for now. "
   ]
  },
  {
   "cell_type": "code",
   "execution_count": null,
   "id": "2d83555a",
   "metadata": {},
   "outputs": [],
   "source": [
    "type(3)"
   ]
  },
  {
   "cell_type": "code",
   "execution_count": null,
   "id": "09f4ce8f",
   "metadata": {},
   "outputs": [],
   "source": [
    "type(True)"
   ]
  },
  {
   "cell_type": "markdown",
   "id": "ef3477ca",
   "metadata": {},
   "source": [
    "Try in the cell below to find out what type `\"Hello World\"` is"
   ]
  },
  {
   "cell_type": "code",
   "execution_count": null,
   "id": "1de3ebdd",
   "metadata": {},
   "outputs": [],
   "source": []
  },
  {
   "cell_type": "markdown",
   "id": "0cabaa56",
   "metadata": {},
   "source": [
    "In the cell explore what other datatypes are available using `type()` and inserting some different examples eg 126.4"
   ]
  },
  {
   "cell_type": "code",
   "execution_count": null,
   "id": "cc00c111",
   "metadata": {},
   "outputs": [],
   "source": []
  },
  {
   "cell_type": "markdown",
   "id": "4d424a5e",
   "metadata": {},
   "source": [
    "The non-primitive data types allow you to collect and modify data you may want later. The list shows the different non-primitive data types.\n",
    "\n",
    "**Non-primitive data types**\n",
    "1. Lists \n",
    "2. Dictionaries\n",
    "3. Sets\n",
    "4. Tuples"
   ]
  },
  {
   "cell_type": "code",
   "execution_count": null,
   "id": "35fce001",
   "metadata": {},
   "outputs": [],
   "source": [
    "[1,2,3,4,5] # List\n",
    "{ 'England': 'London', 'Scotland': 'Edinburgh', 'France': 'Paris'} # Dictionary\n",
    "{'England', 'Scotland','France'} # Set\n",
    "(1,2,3,4,5) # Tuple "
   ]
  },
  {
   "cell_type": "markdown",
   "id": "5587f47a",
   "metadata": {},
   "source": [
    "In the cells below run the cell to see what datatype is between the parentheses of `type()`"
   ]
  },
  {
   "cell_type": "code",
   "execution_count": null,
   "id": "5c23acca",
   "metadata": {},
   "outputs": [],
   "source": [
    "type({'England': 'London', 'Scotland': 'Edinburgh', 'France': 'Paris'})"
   ]
  },
  {
   "cell_type": "code",
   "execution_count": null,
   "id": "d30bf01b",
   "metadata": {},
   "outputs": [],
   "source": [
    "type([1,2,3,4,5])"
   ]
  },
  {
   "cell_type": "markdown",
   "id": "d3952bb1",
   "metadata": {},
   "source": [
    "Try for yourself in the cell below to find out what type the value `(1,2,3,4,5)` is"
   ]
  },
  {
   "cell_type": "code",
   "execution_count": null,
   "id": "904e034b",
   "metadata": {},
   "outputs": [],
   "source": []
  },
  {
   "cell_type": "markdown",
   "id": "e376dd71",
   "metadata": {},
   "source": [
    "Don't worry about knowing what these all mean we will cover them in more detail later."
   ]
  },
  {
   "cell_type": "markdown",
   "id": "930414f9",
   "metadata": {},
   "source": [
    "### Literals\n",
    "\n",
    "A term that comes up with data types is the term 'literal'. A literal is any notation that represents a fixed value in the code. When we talk about data types, a literal describes a value of that data type. \n",
    "\n",
    "To demonstrate this, an integer literal is an integer value that is explicit in your code. See the code in the cell below."
   ]
  },
  {
   "cell_type": "code",
   "execution_count": null,
   "id": "8c19ca85",
   "metadata": {},
   "outputs": [],
   "source": [
    "5  # 5 is the integer literal"
   ]
  },
  {
   "cell_type": "markdown",
   "id": "07631f85",
   "metadata": {},
   "source": [
    "In the cell below can you type out other examples of literals ?"
   ]
  },
  {
   "cell_type": "code",
   "execution_count": null,
   "id": "761ac27e",
   "metadata": {},
   "outputs": [],
   "source": []
  },
  {
   "attachments": {},
   "cell_type": "markdown",
   "id": "b2ac427c",
   "metadata": {},
   "source": [
    "### Data Structures\n",
    "Some data types are also data structures. \n",
    "\n",
    "A **data structure** is a datatype \n",
    "that contains the data in a specific way and provides means to manipulate it. \n",
    "\n",
    "For example, a dictionary represents a collection of key-value pairs\n",
    "`{key: value}`\n",
    "with means to access a specific value by key:"
   ]
  },
  {
   "cell_type": "code",
   "execution_count": null,
   "id": "9655ec43",
   "metadata": {},
   "outputs": [],
   "source": [
    "# country_capital is a variable that is associated with a dictionary. We'll talk more about variables in a dedicated section.\n",
    "country_capital = {'England': 'London', 'Scotland': 'Edinburgh', 'France': 'Paris'}\n",
    "# We access dictionary value by passing its key in the square brackets:\n",
    "country_capital['France']"
   ]
  },
  {
   "attachments": {},
   "cell_type": "markdown",
   "id": "d27f05f2",
   "metadata": {},
   "source": [
    "Can you access other values of this dictionary in the cell below?"
   ]
  },
  {
   "cell_type": "code",
   "execution_count": null,
   "id": "60e0d774",
   "metadata": {},
   "outputs": [],
   "source": []
  },
  {
   "attachments": {},
   "cell_type": "markdown",
   "id": "541d4229",
   "metadata": {},
   "source": [
    "Don't worry too much about the semantic differences between data types and data structures too much at this stage, but its useful to have an awareness of the term.\n",
    "We'll come back to the dictionaries in [Python_Principles_2 notebook](Python_Principles_2.ipynb)."
   ]
  },
  {
   "cell_type": "markdown",
   "id": "e7a2805a",
   "metadata": {},
   "source": [
    "### Operations\n",
    "\n",
    "In any programming language, there are data types as well as ways to manipulate that values of those data types. When we do something to data we call these **operations**. To do an operation we have special symbols called **operators** which tell Python to perform a specific task on data. \n",
    "\n",
    "A simple example of this would be adding two numbers together. Python has an addition operator `+` which tells Python we want to form an addition operation. The code snippet illustrates this."
   ]
  },
  {
   "cell_type": "code",
   "execution_count": null,
   "id": "853dc1ef",
   "metadata": {},
   "outputs": [],
   "source": [
    "3 + 5 # The + is the addition operator that tells python to add two numbers together"
   ]
  },
  {
   "cell_type": "markdown",
   "id": "2934cfba",
   "metadata": {},
   "source": [
    "In the cell below try add together the numbers 21 and 51 and run the code to see the result."
   ]
  },
  {
   "cell_type": "code",
   "execution_count": null,
   "id": "34d6079d",
   "metadata": {},
   "outputs": [],
   "source": []
  },
  {
   "cell_type": "markdown",
   "id": "4b5af124",
   "metadata": {},
   "source": [
    "There are many different types of operators which we will cover in a later section."
   ]
  },
  {
   "cell_type": "markdown",
   "id": "3fa80483",
   "metadata": {},
   "source": [
    "### Expressions and return values\n",
    "\n",
    "An **expression** is a combination of values and operators that Python can evaluate.\n",
    "\n",
    "When we type out an expression in Python, it also displays the result of that expression without you specifically telling it to. We call this the **return value**. \n",
    "\n",
    "Run the code snippet below to show what happens. "
   ]
  },
  {
   "cell_type": "code",
   "execution_count": null,
   "id": "90d094b8",
   "metadata": {},
   "outputs": [],
   "source": [
    "4 + 5 # expression"
   ]
  },
  {
   "cell_type": "markdown",
   "id": "36175e1c",
   "metadata": {},
   "source": [
    "Expressions don't have to involve operators, any value is an expression that evalutes to itself."
   ]
  },
  {
   "cell_type": "code",
   "execution_count": null,
   "id": "b3ce6f5c",
   "metadata": {},
   "outputs": [],
   "source": [
    "4"
   ]
  },
  {
   "cell_type": "markdown",
   "id": "529c8169",
   "metadata": {},
   "source": [
    "### Statements\n",
    "\n",
    "A **statement** is a line of code or multiple lines of code that expresses an action for the computer to perform. Every program consists of a sequence of statements. \n",
    "\n",
    "Run the code snippet to see an example of a statement. "
   ]
  },
  {
   "cell_type": "code",
   "execution_count": null,
   "id": "bced70e5",
   "metadata": {},
   "outputs": [],
   "source": [
    "print(5)"
   ]
  },
  {
   "cell_type": "markdown",
   "id": "409a473e",
   "metadata": {},
   "source": [
    "The code snippet below, prints out the integer 5, this statement means that Python is performing an action. Don't worry about knowing what `print()` is, the next section will introduce `print()`."
   ]
  },
  {
   "cell_type": "markdown",
   "id": "6214af4f",
   "metadata": {},
   "source": [
    "### Displaying values  \n",
    "\n",
    "We have seen above that Python automatically returns values when you type out an expression and run the cell. We can also explicitly print what the result of the expression using a function called `print()`. \n",
    "\n",
    "To use `print()` we put datatypes and expressions inbetween the parentheses.\n",
    "\n",
    "\n",
    "Below is a code snippet to illustrate this."
   ]
  },
  {
   "cell_type": "code",
   "execution_count": null,
   "id": "14a38688",
   "metadata": {},
   "outputs": [],
   "source": [
    "print(3 + 4)"
   ]
  },
  {
   "cell_type": "markdown",
   "id": "9cc0e5b1",
   "metadata": {},
   "source": [
    "Notice how `3+4` is an expression and Python evaluated this expression and printed the output."
   ]
  },
  {
   "cell_type": "markdown",
   "id": "c51c476a",
   "metadata": {},
   "source": [
    "\n",
    "In the cell below, try and print the result of 5 + 10 "
   ]
  },
  {
   "cell_type": "code",
   "execution_count": null,
   "id": "c04b92f8",
   "metadata": {},
   "outputs": [],
   "source": []
  },
  {
   "cell_type": "markdown",
   "id": "b4567ce6",
   "metadata": {},
   "source": [
    "It's also possible to print multiple datatypes and expressions at the same time by placing a comma between each datatype you want to print inbetween the parentheses. \n",
    "\n",
    "Run the cell below."
   ]
  },
  {
   "cell_type": "code",
   "execution_count": null,
   "id": "a6f7f7d7",
   "metadata": {},
   "outputs": [],
   "source": [
    "print(\"Hello\",\"3 + 4 is\",3+4)"
   ]
  },
  {
   "cell_type": "markdown",
   "id": "2112d945",
   "metadata": {},
   "source": [
    "In the cell below explore printing multiple datatypes together. "
   ]
  },
  {
   "cell_type": "code",
   "execution_count": null,
   "id": "982390b9",
   "metadata": {},
   "outputs": [],
   "source": []
  },
  {
   "cell_type": "markdown",
   "id": "473a45c0",
   "metadata": {},
   "source": [
    "\n",
    "### Variables\n",
    "\n",
    "Python like all programming languages has data types, but we need to be able to store this data for later use. Python allows you to do this by creating variables. A **variable** is a container that associates a name with a specified value. A variable is created when we give it a name and give it a value. \n",
    "\n",
    "We use a special type of operator called an assignment operator `=` to create the relationship between a variable name and value. \n",
    "\n",
    "Run the cell below to see an example."
   ]
  },
  {
   "cell_type": "code",
   "execution_count": null,
   "id": "b9e17d34",
   "metadata": {},
   "outputs": [],
   "source": [
    "x = 5 "
   ]
  },
  {
   "attachments": {},
   "cell_type": "markdown",
   "id": "4507760a",
   "metadata": {},
   "source": [
    "Note that assignment operator is **not** `equals to`, as it is in maths.\n",
    "I.e. the assignment above **doesn't** mean that 5 is equal to x now:"
   ]
  },
  {
   "cell_type": "code",
   "execution_count": null,
   "id": "0bcade9d",
   "metadata": {},
   "outputs": [],
   "source": [
    "5"
   ]
  },
  {
   "attachments": {},
   "cell_type": "markdown",
   "id": "20db693f",
   "metadata": {},
   "source": [
    "In this code snippet, we create the variable `x`, the `=` is called an assignment operator and this creates the variable. We **assign** the integer `5` to the variable `x`.\n",
    "\n",
    "When we create a variable, we call this a **declaration** or declaring a variable.\n",
    "\n",
    "In the cell below, define a variable named `y` and give it a value of 11:"
   ]
  },
  {
   "cell_type": "code",
   "execution_count": null,
   "id": "62d0ae0c",
   "metadata": {},
   "outputs": [],
   "source": []
  },
  {
   "cell_type": "markdown",
   "id": "5fbbac28",
   "metadata": {},
   "source": [
    "We will be talking about variables in more detail in a later exercise."
   ]
  },
  {
   "cell_type": "markdown",
   "id": "794e6528",
   "metadata": {},
   "source": [
    "## Syntax\n",
    "\n",
    "The syntax of Python is a set of rules that define how Python should be written and interpreted when we run a program. Below in the following sections we will discuss some of the important aspects of the syntax of Python to know for the next exercises."
   ]
  },
  {
   "cell_type": "markdown",
   "id": "d461e891",
   "metadata": {},
   "source": [
    "### Keywords\n",
    "\n",
    "In Python, there are words that are reserved, that is to say we can't use them as names in our code. We call these **keywords**, they look like normal words but have special meanings. \n",
    "\n",
    "In the code snippet below, there are two keywords `if` and `else` that you will be able to see, don't worry about the entire meaning of the code yet. You will learn about these later on, the example is to illustrate the concept"
   ]
  },
  {
   "cell_type": "code",
   "execution_count": null,
   "id": "19483da4",
   "metadata": {},
   "outputs": [],
   "source": [
    "x = 5\n",
    "if (x < 4):\n",
    "    print(x)\n",
    "else: \n",
    "    print(x + 1)"
   ]
  },
  {
   "cell_type": "markdown",
   "id": "aa033e35",
   "metadata": {},
   "source": [
    "Note we can't call a variable name `if` or `else` in python, otherwise, an error will occur. Try run the cell below and see what the output is."
   ]
  },
  {
   "cell_type": "code",
   "execution_count": null,
   "id": "33cc6f0a",
   "metadata": {},
   "outputs": [],
   "source": [
    "if = 5"
   ]
  },
  {
   "cell_type": "markdown",
   "id": "354b00f1",
   "metadata": {},
   "source": [
    "We see Python returns a `SyntaxError` saying there's invalid syntax. This is because `if` is a reserved word and Python won't allow us to create a variable named `if`."
   ]
  },
  {
   "cell_type": "markdown",
   "id": "eb6842ec",
   "metadata": {},
   "source": [
    "### Indentation\n",
    "\n",
    "**Indentation** is the space at the beginning of a line of code. In some languages, indentation is for readability only however, in Python, it also defines a block of code that does something.\n",
    "\n",
    "Run the code snippet below, don't worry about the meaning of the code."
   ]
  },
  {
   "cell_type": "code",
   "execution_count": null,
   "id": "68ce20a7",
   "metadata": {},
   "outputs": [],
   "source": [
    "x = 4\n",
    "if x < 4: \n",
    "\ty = x + 2\n",
    "\tprint(x)"
   ]
  },
  {
   "cell_type": "markdown",
   "id": "0fcfa638",
   "metadata": {},
   "source": [
    "In the first if block, the line of code `print(x)` has been indented. So when Python runs this code it only gets called in that if block. In this case the code only prints `x` if x is less than four. Try changing the value of x to see the difference.\n",
    "\n",
    "Consider the difference in the code snippet below."
   ]
  },
  {
   "cell_type": "code",
   "execution_count": null,
   "id": "c30867aa",
   "metadata": {},
   "outputs": [],
   "source": [
    "if x < 4:\n",
    "\ty = x + 2\n",
    "print(x)"
   ]
  },
  {
   "cell_type": "markdown",
   "id": "848c0a78",
   "metadata": {},
   "source": [
    "In this code snippet, the print function is called regardless of the value of x, this is because `print(x)` is not indented.\n",
    "\n",
    "The indentation has meaning in Python and often leads to more readable code. It is up to you how much space you use, just be consistent. Conventionally code blocks like the above should be indented by four spaces."
   ]
  },
  {
   "cell_type": "markdown",
   "id": "126a1992",
   "metadata": {},
   "source": [
    "### End of Line terminates a statement\n",
    "\n",
    "In some programming languages, you need to add characters to tell the interpreter you have finished a statement. Python implicitly uses the end of a line to terminate a statement."
   ]
  },
  {
   "cell_type": "code",
   "execution_count": null,
   "id": "9ada81b8",
   "metadata": {},
   "outputs": [],
   "source": [
    "4 + 5 # End of this line means python will compute this line of code"
   ]
  },
  {
   "cell_type": "markdown",
   "id": "7ff03bb7",
   "metadata": {},
   "source": [
    "### Parentheses\n",
    "\n",
    "In Python you can use round braces or what are called **parentheses** to group data and expressions to make it clear how you want Python to intepret the expression written. "
   ]
  },
  {
   "cell_type": "code",
   "execution_count": null,
   "id": "d589c39a",
   "metadata": {},
   "outputs": [],
   "source": [
    "2 * (3 + 4)"
   ]
  },
  {
   "cell_type": "markdown",
   "id": "efe34127",
   "metadata": {},
   "source": [
    "Run the cell below to see how the above line of code is different to the one below."
   ]
  },
  {
   "cell_type": "code",
   "execution_count": null,
   "id": "44d06bd6",
   "metadata": {},
   "outputs": [],
   "source": [
    "2 * 3 + 4 # This is different to the above"
   ]
  },
  {
   "cell_type": "markdown",
   "id": "a0f8864f",
   "metadata": {},
   "source": [
    "In the code snippet above, on the first line, the integers 3 and 4 are added together and then multiplied by 2. On the second line Python multiplies 2 and 3 together and then add 4. The placing of the parentheses matters, we will cover this in a later exercise."
   ]
  },
  {
   "cell_type": "markdown",
   "id": "de2e5fa0",
   "metadata": {},
   "source": [
    "### Comments \n",
    "\n",
    "Python allows you to add comments in the code that serve as documentation to make things clearer to understand. You've already seen a few examples of this. A single-line comment starts with a # and Python will then intepret the rest of the line of code as a comment. "
   ]
  },
  {
   "cell_type": "code",
   "execution_count": null,
   "id": "d7dff1bd",
   "metadata": {},
   "outputs": [],
   "source": [
    "# This is a comment"
   ]
  },
  {
   "cell_type": "markdown",
   "id": "2d5b4b04",
   "metadata": {},
   "source": [
    "Use the cell below to create a comment with the string `\"I am learning python\"`"
   ]
  },
  {
   "cell_type": "code",
   "execution_count": null,
   "id": "6fc7a754",
   "metadata": {},
   "outputs": [],
   "source": []
  },
  {
   "cell_type": "markdown",
   "id": "d82ecd21",
   "metadata": {},
   "source": [
    "Sometimes you want to be able to write comments in more than one line. To do this you can use tripe quotes `\"\"\"  \"\"\"`. Anything in between those quotes will be interpreted as a comment. \n",
    "\n",
    "See the cell below for an example of a multiline comment. Notice how Python does not do anything with the text inside the comment."
   ]
  },
  {
   "cell_type": "code",
   "execution_count": null,
   "id": "d83f3890",
   "metadata": {},
   "outputs": [],
   "source": [
    "\"\"\" comment 1\n",
    "comment 2 \n",
    "comment 3 \n",
    "\"\"\"\n",
    "\n",
    "print(\"I will be printed!\")"
   ]
  },
  {
   "cell_type": "markdown",
   "id": "c0d96e1a",
   "metadata": {},
   "source": [
    "When problem-solving you may want to write down your thoughts near your code, this is where a multi-line comment would be appropriate. "
   ]
  },
  {
   "cell_type": "markdown",
   "id": "d33fe270",
   "metadata": {},
   "source": [
    "### Summary\n",
    "\n",
    "Understanding the vocabulary and how to write code is the first step to getting started in Python. Primitive data types are the simplest data we can deal with in Python, non-primitive data types allow us to store those primitive data types easily in specific ways.\n",
    "\n",
    "Being able to do operations on these data types using operators is what gives Python it's ability to take data and transform it into something useful. We will cover more on operators in a later section.\n",
    "\n",
    "We covered some basic syntax like comments, indentation and parentheses, which defines the way to write code so that Python can intepret our code correctly. For more style information, the most widely used style guide for writing python is [PEP008](https://www.python.org/dev/peps/pep-0008/). As you write more python you will find it more useful to read.\n",
    "\n",
    "Understanding these concepts will make sure that you are writing Python in a readable way."
   ]
  },
  {
   "cell_type": "markdown",
   "id": "6f757fde",
   "metadata": {},
   "source": [
    "### Check your understanding\n",
    "\n",
    "We've covered a range of different topics. Below are a couple of questions for you to test your understanding and recall of the material above. You can refer back to this at a later time when you want to review.\n",
    "\n",
    "1. What is a data type? \n",
    "2. What is a literal?\n",
    "3. What is an operation and an operator?\n",
    "4. What is an expression? \n",
    "5. What is a statement? \n",
    "6. What is the difference between an expression and a statement?\n",
    "7. Give an example of a comment in Python \n",
    "8. Why is indentation important in Python?\n",
    "9. What is a keyword? \n",
    "10. What is a data structure? \n",
    "11. How does a data structure differ from a data type?\n",
    "12. What are the two different data types Python has?\n",
    "13. Can you name the different data types in Python?\n",
    "14. Can you give an example of declaring a variable?\n"
   ]
  },
  {
   "cell_type": "markdown",
   "id": "de5551d8",
   "metadata": {},
   "source": [
    "### Next Steps\n",
    "\n",
    "1. Create in a cell below a simple program (Remember a program is just a group of statements!) that prints out different types of values. Make sure to also output information on the datatype itself. Be sure to add in some comments too to practice multiline and single comments. Can you name all the different concepts within your code ?"
   ]
  },
  {
   "cell_type": "code",
   "execution_count": null,
   "id": "97a912a9",
   "metadata": {},
   "outputs": [],
   "source": []
  },
  {
   "cell_type": "markdown",
   "id": "ce1e133e",
   "metadata": {},
   "source": [
    "## Feedback \n",
    "\n",
    "Fill out the form below and we'll provide feedback on your code.\n",
    "\n",
    "**Any feedback on the exercise? Any questions? Want feedback on your code? Please fill out the form [here](https://docs.google.com/forms/d/e/1FAIpQLSdoOjVom8YKf11LxJ_bWN40afFMsWcoJ-xOrKhMbfBzgxTS9A/viewform).**"
   ]
  }
 ],
 "metadata": {
  "kernelspec": {
   "display_name": "sktime-dev",
   "language": "python",
   "name": "sktime-dev"
  },
  "language_info": {
   "codemirror_mode": {
    "name": "ipython",
    "version": 3
   },
   "file_extension": ".py",
   "mimetype": "text/x-python",
   "name": "python",
   "nbconvert_exporter": "python",
   "pygments_lexer": "ipython3",
   "version": "3.8.10"
  },
  "vscode": {
   "interpreter": {
    "hash": "31f2aee4e71d21fbe5cf8b01ff0e069b9275f58929596ceb00d14d90e3e16cd6"
   }
  }
 },
 "nbformat": 4,
 "nbformat_minor": 5
}
