{
 "cells": [
  {
   "cell_type": "markdown",
   "id": "0adb8e5f",
   "metadata": {
    "id": "0adb8e5f"
   },
   "source": [
    "<a href=\"https://colab.research.google.com/github/chris-lovejoy/CodingForMedicine/blob/main/exercises/Setting_up_Jupyter_Notebook.ipynb\" target=\"_parent\"><img src=\"https://colab.research.google.com/assets/colab-badge.svg\" alt=\"Open In Colab\"/></a>"
   ]
  },
  {
   "cell_type": "markdown",
   "id": "8babc136",
   "metadata": {
    "id": "8babc136"
   },
   "source": [
    "# Testing our environmental setup\n",
    "\n",
    "The purpose of this notebook is to introduce Jupyter Notebooks and for testing the environmental setup (whether running on Google Colab or on your local computer).\n",
    "\n",
    "\n",
    "### What is a Jupyter Notebook?\n",
    "The Jupyter Notebook is a browser-based tool for executing code, with an emphasis on easy visualisation and interpretability. It is most commonly used for Python, although can be used for other languages such as Julia, R, Haskell and Ruby. The file extension for Jupyter Notebook files are usually '.ipynb'.\n",
    "\n",
    "\n",
    "### How to run a Jupyter Notebook\n",
    "\n",
    "You can either run Jupyter Notebooks on [Google Colaboratory](http://colab.research.google.com/) (\"Google Colab\") or on your local computer. Google Colaboratory is quicker and easier to set-up. It saves you downloading the Jupyter software, as well as associated libraries (e.g. numpy, pandas) that you may need.\n",
    "\n",
    "\n",
    "But there are advantages to running Jupyter on your local computer, including:\n",
    "\n",
    "1. **You can manage data files more easily.** In Google Colab, you may have to re-upload data files each time you re-load the notebook. This isn't ture when the files are local.\n",
    "\n",
    "2. **Version control is easier**, for example by uploading different versions of your notebook to [GitHub](https://www.github.com).\n",
    "\n",
    "3. **You can import your own modules more easily.** Once you are more experienced with Jupyter Notebooks, you may want to import custom Python scripts into your notebooks.\n",
    "\n",
    "\n",
    "\n",
    "### How to get setup\n",
    "If you want to run the Jupyter Notebook on Google Colab, click on the 'Open in Colab' button at the top of this notebook. Then, click \"File -> Save a copy in Drive\". You must be logged into a Google account to do so. This will make a local copy of the notebook within your Google Drive which you can then modify.\n",
    "\n",
    "If you want to run the Jupyter Notebook locally, use [this guide](https://realpython.com/jupyter-notebook-introduction/) to get up and running.\n",
    "\n",
    "\n",
    "\n",
    "#### Installing local packages\n",
    "If you are running Jupyter Notebook locally, you may need to install 'packages' or 'libraries'. These are pieces of code that enable specific functionality. \n",
    "\n",
    "Popular Python packages include:\n",
    "- **numpy**: For more advanced manipulation of numbers\n",
    "- **pandas**: For better handling of data\n",
    "- **matplotlib**: For visualisation of data, with plots and graphs\n",
    "\n",
    "The easiest way to install these for use in a Jupyter Notebook is with the 'conda' package manager. This involves running\n",
    "> 'conda install [package-name]' \n",
    "\n",
    "from the command line/terminal. The commands for different packages can be found on the Anaconda website, such as [this command for installing numpy](https://anaconda.org/anaconda/numpy).\n",
    "\n",
    "\n",
    "### Testing your setup\n",
    "As a general principle, a completed Jupyter Notebook should be able to run through to completion. You can test by selecting \"Kernel -> Restart and Run All\".\n",
    "\n",
    "This helps prevent mistakes that can cause erroneous outputs. For example, one common mistake is using a variable that is declared later on in the notebook or accidentally declaring two variables with the same name. This may not be obvious while writing the initial code, because the variable will be stored in memory. But when you restart and run from front-to-back, the notebook will throw an error.\n"
   ]
  },
  {
   "cell_type": "markdown",
   "id": "33f01183",
   "metadata": {
    "id": "33f01183"
   },
   "source": [
    "## 1. Executing cells\n",
    "\n",
    "You can 'execute' each cell of code individually by clicking 'Run' above or by pressing shift + enter.\n",
    "\n",
    "Let's run the cells below."
   ]
  },
  {
   "cell_type": "markdown",
   "id": "MG5YeWBSf0ZJ",
   "metadata": {
    "id": "MG5YeWBSf0ZJ"
   },
   "source": [
    "For example, here is a code cell with a short Python script that declares a \"string\" of text a value, stores it in a variable and prints the result:"
   ]
  },
  {
   "cell_type": "code",
   "execution_count": null,
   "id": "55312a2d",
   "metadata": {
    "colab": {
     "base_uri": "https://localhost:8080/",
     "height": 53
    },
    "id": "55312a2d",
    "outputId": "cfeb6cdf-4e71-42e1-c4ea-4ab2244f47b2"
   },
   "outputs": [],
   "source": [
    "# Declare a \"string\" of text\n",
    "text = \"let's learn about data science!\"\n",
    "print(text) # use the print() function to get output \n",
    "# or simply typing 'text' in the interpreter or Jupyter notebook to get output \n",
    "text"
   ]
  },
  {
   "cell_type": "markdown",
   "id": "RUJYrQu3eoYZ",
   "metadata": {
    "id": "RUJYrQu3eoYZ"
   },
   "source": [
    "**Question**: Do you know why print(text) and text show similar, but not exactly the same, output ?  "
   ]
  },
  {
   "cell_type": "markdown",
   "id": "ZVJWh5SogIiL",
   "metadata": {
    "id": "ZVJWh5SogIiL"
   },
   "source": [
    "Here is a code cell with a short Python script that computes a value, stores it in a variable and prints the result:"
   ]
  },
  {
   "cell_type": "code",
   "execution_count": null,
   "id": "f7a74995",
   "metadata": {
    "colab": {
     "base_uri": "https://localhost:8080/"
    },
    "id": "f7a74995",
    "outputId": "7adca2a5-5c4e-4cf5-bf6f-955c3a48defe"
   },
   "outputs": [],
   "source": [
    "# Declare an integer (ie. a number seconds_in_a_day)\n",
    "seconds_in_a_day = 24 * 60 * 60\n",
    "seconds_in_a_day\n"
   ]
  },
  {
   "cell_type": "markdown",
   "id": "e4950413",
   "metadata": {
    "id": "e4950413"
   },
   "source": [
    "Strings, integers and other data types are covered in [this exercise](https://github.com/chris-lovejoy/CodingForMedicine/blob/main/exercises/Python_Principles.ipynb) on python principles."
   ]
  },
  {
   "cell_type": "markdown",
   "id": "9cbb7c0c",
   "metadata": {
    "id": "9cbb7c0c"
   },
   "source": [
    "## 2. Importing packages"
   ]
  },
  {
   "cell_type": "markdown",
   "id": "1586ecb0",
   "metadata": {
    "id": "1586ecb0"
   },
   "source": [
    "Let's start by importing the 'numpy' package, to enable us to manipulate values more easily. A 'package' or 'library' is code written by someone else, that can be used to provide different functionality. \n",
    "\n",
    "We can import the package by running the cell below. \n",
    "\n",
    "If we're running on Google Colab, it will load that library from the computer running the Colab notebook. If we're running it on our local computer (ie. the PC or laptop in front of you), then it will load from on your computer. This means, you'll need to have installed the package onto your computer, ready to be imported. See the section \"Installing local packages\" above for help on this, or fill in [this form](https://docs.google.com/forms/d/e/1FAIpQLSdoOjVom8YKf11LxJ_bWN40afFMsWcoJ-xOrKhMbfBzgxTS9A/viewform) if you're struggling and need help.\n",
    "\n",
    "*(Note: If you don't have a certain package available on Google Colab, you can install it with \"!pip install [package name]\")*"
   ]
  },
  {
   "cell_type": "code",
   "execution_count": null,
   "id": "f7987e55",
   "metadata": {
    "id": "f7987e55"
   },
   "outputs": [],
   "source": [
    "import numpy as np"
   ]
  },
  {
   "cell_type": "markdown",
   "id": "1a99a912",
   "metadata": {
    "id": "1a99a912"
   },
   "source": [
    "We can now access the functions of numpy, by starting with \"np.[function name]\". For example, we can make an 'array' using \"np.array\". (Arrays are covered [this exercise](./Python_principles.ipynb) on python principles.)"
   ]
  },
  {
   "cell_type": "markdown",
   "id": "c8ca6f2d",
   "metadata": {},
   "source": [
    "Let's define an array and use it to print out a message:"
   ]
  },
  {
   "cell_type": "code",
   "execution_count": null,
   "id": "40422bd8",
   "metadata": {
    "id": "40422bd8"
   },
   "outputs": [],
   "source": [
    "array_1 = np.array([\"to\", \"I'm\", \"import\", \"numpy!\", \"able\"])"
   ]
  },
  {
   "cell_type": "code",
   "execution_count": null,
   "id": "5b31f3ab",
   "metadata": {
    "colab": {
     "base_uri": "https://localhost:8080/"
    },
    "id": "5b31f3ab",
    "outputId": "fc1535ee-84f4-40b8-e31d-ef3d298e9195"
   },
   "outputs": [],
   "source": [
    "sequence = [1, 4, 0, 2, 3]\n",
    "\n",
    "for index in sequence:\n",
    "    print(array_1[index], end =\" \")"
   ]
  },
  {
   "cell_type": "markdown",
   "id": "3b453bb9",
   "metadata": {
    "id": "3b453bb9"
   },
   "source": [
    "## 3. Loading data "
   ]
  },
  {
   "cell_type": "markdown",
   "id": "de8132d2",
   "metadata": {
    "id": "de8132d2"
   },
   "source": [
    "To load a dataset, we'll want to import the 'pandas' library. We can do that in the same way:"
   ]
  },
  {
   "cell_type": "code",
   "execution_count": null,
   "id": "7251fdf6",
   "metadata": {
    "id": "7251fdf6"
   },
   "outputs": [],
   "source": [
    "import pandas as pd"
   ]
  },
  {
   "cell_type": "markdown",
   "id": "cb821e53",
   "metadata": {
    "id": "cb821e53"
   },
   "source": [
    "The most commonly-used data format is the 'csv' file - which stands for \"comma-separated value\". In this file format, the data consists of rows of values separated by commas (hence the name). This can be opened by common software for visualising tables, such as Microsoft Excel, and can be easily imported using the pandas library.\n"
   ]
  },
  {
   "cell_type": "markdown",
   "id": "9c4487e5",
   "metadata": {
    "id": "9c4487e5"
   },
   "source": [
    "[Here](https://github.com/chris-lovejoy/CodingForMedicine/blob/main/exercises/data.csv) is a template csv file which we can load into our notebook.\n",
    "\n",
    "We want to make sure that the file is in the same directory as our current notebook. To do that, we can use the \"ls\" to *list* all the files. To run this from within the Jupyter Notebook, we need to add an '!', as follows:"
   ]
  },
  {
   "cell_type": "code",
   "execution_count": null,
   "id": "ceebc4bf",
   "metadata": {
    "colab": {
     "base_uri": "https://localhost:8080/"
    },
    "id": "ceebc4bf",
    "outputId": "948e4f76-af35-448e-c90f-f545bf4fb27b"
   },
   "outputs": [],
   "source": [
    "!ls"
   ]
  },
  {
   "cell_type": "markdown",
   "id": "a02bc09b",
   "metadata": {
    "id": "a02bc09b"
   },
   "source": [
    "If you're on Google Colab, the file will not show as you will need to import it. To do so:\n",
    "1. Make sure you are connected to a runtime (click Connect in the top right, if you aren't)\n",
    "2. Select the 'Files' folder on the left hand tab\n",
    "3. Downloaded the 'data.csv' file and drag it into the Files tab (it should show the file uploading in the bottom left, and then you'll see 'data.csv' within the Files tab).\n"
   ]
  },
  {
   "cell_type": "markdown",
   "id": "bc6b0c82",
   "metadata": {
    "id": "bc6b0c82"
   },
   "source": [
    "Other helpful commands for visualising files are:\n",
    "- **pwd**: See the \"present working directory\", ie. the folder you are currently operating in\n",
    "- **cd**: \"Change Directory\" to a different folder\n",
    "\n",
    "Again, to run these within the notebook, we'll need to add an '!' in front."
   ]
  },
  {
   "cell_type": "markdown",
   "id": "15fb8faf",
   "metadata": {
    "id": "15fb8faf"
   },
   "source": [
    "### Importing the data with pandas"
   ]
  },
  {
   "cell_type": "markdown",
   "id": "c11832af",
   "metadata": {
    "id": "c11832af"
   },
   "source": [
    "Let's now test whether we can import our data. We can use the 'read_csv' function from within the 'pandas' library."
   ]
  },
  {
   "cell_type": "code",
   "execution_count": null,
   "id": "d5a4b0b2",
   "metadata": {
    "colab": {
     "base_uri": "https://localhost:8080/",
     "height": 505
    },
    "id": "d5a4b0b2",
    "outputId": "674e6f6e-c5f0-400c-d9cf-fd9fb45adcde"
   },
   "outputs": [],
   "source": [
    "dataset = pd.read_csv('./data.csv')\n",
    "dataset"
   ]
  },
  {
   "cell_type": "markdown",
   "id": "efd39455",
   "metadata": {
    "id": "efd39455"
   },
   "source": [
    "### 4. Bringing it all together\n",
    "\n",
    "Let's now test whether everything worked by running the cell below. If so, it should print out a message.\n",
    "\n",
    "This cell combines values from all throughout this notebook. So if anything didnt run, it will throw an error.\n",
    "\n",
    "**See if you can figure out how the code in cell below works.** But don't worry if you don't understand it - it uses a lot of concepts we haven't covered in this notebook. These concepts are covered in [this exercise](https://github.com/chris-lovejoy/CodingForMedicine/blob/main/exercises/Python_Principles.ipynb) on python principles.\n"
   ]
  },
  {
   "cell_type": "code",
   "execution_count": null,
   "id": "56595aca",
   "metadata": {
    "colab": {
     "base_uri": "https://localhost:8080/"
    },
    "id": "56595aca",
    "outputId": "807fcc41-8965-4e03-cb8b-e5b256e502be"
   },
   "outputs": [],
   "source": [
    "array_2 = np.array([\"Python!\", \"ready to\", \"all set up\"])\n",
    "print(array_1[1], array_2[2], \"which\", end=\" \")\n",
    "print(dataset.columns[2][-4:], end=\"\")\n",
    "print(\"s\", array_1[1], array_2[1], text[6:-1], end=\" \")\n",
    "print(\"using\", array_2[0])"
   ]
  },
  {
   "cell_type": "markdown",
   "id": "9f54418c",
   "metadata": {},
   "source": [
    "### 5. Looking forward"
   ]
  },
  {
   "cell_type": "markdown",
   "id": "5b84e899",
   "metadata": {},
   "source": [
    "There's even more functionality that Jupyter Notebooks enable, which we haven't touched on here. On top of writing executable code as well as text, you can also display images, graphs and more.\n",
    "\n",
    "Here's an example of visualising some data using a library called **matplotlib**. We'll see more examples of this in later exercise."
   ]
  },
  {
   "cell_type": "code",
   "execution_count": null,
   "id": "YS9ZCwqThEpP",
   "metadata": {
    "colab": {
     "base_uri": "https://localhost:8080/",
     "height": 452
    },
    "id": "YS9ZCwqThEpP",
    "outputId": "e8839c0d-9391-471d-bdd1-64668facc85b"
   },
   "outputs": [],
   "source": [
    "from matplotlib import pyplot as plt\n",
    "\n",
    "ys = 200 + np.random.randn(100)\n",
    "x = [x for x in range(len(ys))]\n",
    "\n",
    "plt.plot(x, ys, '-')\n",
    "plt.fill_between(x, ys, 195, where=(ys > 195), facecolor='g', alpha=0.6)\n",
    "\n",
    "plt.title(\"Sample Visualization\")\n",
    "plt.show()"
   ]
  }
 ],
 "metadata": {
  "colab": {
   "provenance": []
  },
  "kernelspec": {
   "display_name": "data_science",
   "language": "python",
   "name": "data_science"
  },
  "language_info": {
   "codemirror_mode": {
    "name": "ipython",
    "version": 3
   },
   "file_extension": ".py",
   "mimetype": "text/x-python",
   "name": "python",
   "nbconvert_exporter": "python",
   "pygments_lexer": "ipython3",
   "version": "3.10.10"
  }
 },
 "nbformat": 4,
 "nbformat_minor": 5
}
